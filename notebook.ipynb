{
 "cells": [
  {
   "cell_type": "markdown",
   "id": "b15a3a16-8d80-4a1f-b249-cc1845d86829",
   "metadata": {},
   "source": [
    "# MLZoomCamp Project 2023 #"
   ]
  },
  {
   "cell_type": "markdown",
   "id": "ff7d392c-1cf8-4f59-9bdd-b4b70bb53366",
   "metadata": {},
   "source": [
    "## Overview "
   ]
  },
  {
   "cell_type": "markdown",
   "id": "0ed73838-5277-4c86-95bd-5446c1d9c1bf",
   "metadata": {},
   "source": [
    "This is the the notebook for the MLZoomcamp 2023 project.\n",
    "\n",
    "It covers:\n",
    "- Data preparation and data cleaning\n",
    "- EDA, feature importance analysis\n",
    "- Model selection process and parameter tuning"
   ]
  },
  {
   "cell_type": "code",
   "execution_count": 372,
   "id": "8a9b12c0",
   "metadata": {},
   "outputs": [],
   "source": [
    "import os\n",
    "import opendatasets as od\n",
    "import pandas as pd\n",
    "import numpy as np\n",
    "import pickle\n",
    "import xgboost as xgb\n",
    "from sklearn.model_selection import train_test_split\n",
    "from sklearn.feature_extraction import DictVectorizer\n",
    "from sklearn.linear_model import LinearRegression\n",
    "from sklearn.tree import DecisionTreeRegressor\n",
    "from sklearn.tree import export_text\n",
    "from sklearn.metrics import mean_squared_error\n",
    "from sklearn.metrics import mutual_info_score\n",
    "from sklearn.metrics import roc_auc_score\n",
    "\n",
    "import matplotlib.pyplot as plt\n",
    "import seaborn as sns\n",
    "\n",
    "%matplotlib inline"
   ]
  },
  {
   "cell_type": "markdown",
   "id": "46cc2b47",
   "metadata": {},
   "source": [
    "## Data preparation and data cleaning\n",
    "### Load Data ###"
   ]
  },
  {
   "cell_type": "code",
   "execution_count": 373,
   "id": "59537b37-8a2f-422e-8ff0-0f55117cbb64",
   "metadata": {},
   "outputs": [
    {
     "name": "stdout",
     "output_type": "stream",
     "text": [
      "The file ./data/used-cars-prices-in-uk/used_cars_UK.csv exists.\n"
     ]
    },
    {
     "data": {
      "text/plain": [
       "(3685, 14)"
      ]
     },
     "execution_count": 373,
     "metadata": {},
     "output_type": "execute_result"
    }
   ],
   "source": [
    "file_path  = './data/used-cars-prices-in-uk/used_cars_UK.csv'\n",
    "if os.path.exists(file_path):\n",
    "    print(f\"The file {file_path} exists.\")\n",
    "else:\n",
    "    # Get the link to the Kaggle dataset\n",
    "    dataset_url = 'https://www.kaggle.com/datasets/muhammadawaistayyab/used-cars-prices-in-uk'\n",
    "    # Download the dataset\n",
    "    od.download(dataset_url, './data')\n",
    "\n",
    "# read data into dataframe\n",
    "df = pd.read_csv(file_path)\n",
    "df.shape"
   ]
  },
  {
   "cell_type": "code",
   "execution_count": 374,
   "id": "37c1d856",
   "metadata": {},
   "outputs": [
    {
     "data": {
      "text/html": [
       "<div>\n",
       "<style scoped>\n",
       "    .dataframe tbody tr th:only-of-type {\n",
       "        vertical-align: middle;\n",
       "    }\n",
       "\n",
       "    .dataframe tbody tr th {\n",
       "        vertical-align: top;\n",
       "    }\n",
       "\n",
       "    .dataframe thead th {\n",
       "        text-align: right;\n",
       "    }\n",
       "</style>\n",
       "<table border=\"1\" class=\"dataframe\">\n",
       "  <thead>\n",
       "    <tr style=\"text-align: right;\">\n",
       "      <th></th>\n",
       "      <th>Unnamed: 0</th>\n",
       "      <th>Price</th>\n",
       "      <th>Mileage(miles)</th>\n",
       "      <th>Registration_Year</th>\n",
       "      <th>Previous Owners</th>\n",
       "      <th>Doors</th>\n",
       "      <th>Seats</th>\n",
       "    </tr>\n",
       "  </thead>\n",
       "  <tbody>\n",
       "    <tr>\n",
       "      <th>count</th>\n",
       "      <td>3685.000000</td>\n",
       "      <td>3685.000000</td>\n",
       "      <td>3.685000e+03</td>\n",
       "      <td>3685.000000</td>\n",
       "      <td>2276.000000</td>\n",
       "      <td>3660.000000</td>\n",
       "      <td>3650.000000</td>\n",
       "    </tr>\n",
       "    <tr>\n",
       "      <th>mean</th>\n",
       "      <td>2314.770963</td>\n",
       "      <td>5787.145726</td>\n",
       "      <td>8.132816e+04</td>\n",
       "      <td>2011.835007</td>\n",
       "      <td>2.807557</td>\n",
       "      <td>4.321038</td>\n",
       "      <td>4.900274</td>\n",
       "    </tr>\n",
       "    <tr>\n",
       "      <th>std</th>\n",
       "      <td>1415.821308</td>\n",
       "      <td>4480.810572</td>\n",
       "      <td>3.942083e+04</td>\n",
       "      <td>5.092566</td>\n",
       "      <td>1.546028</td>\n",
       "      <td>0.986902</td>\n",
       "      <td>0.577200</td>\n",
       "    </tr>\n",
       "    <tr>\n",
       "      <th>min</th>\n",
       "      <td>0.000000</td>\n",
       "      <td>400.000000</td>\n",
       "      <td>1.000000e+00</td>\n",
       "      <td>1953.000000</td>\n",
       "      <td>1.000000</td>\n",
       "      <td>2.000000</td>\n",
       "      <td>2.000000</td>\n",
       "    </tr>\n",
       "    <tr>\n",
       "      <th>25%</th>\n",
       "      <td>1059.000000</td>\n",
       "      <td>2490.000000</td>\n",
       "      <td>5.698400e+04</td>\n",
       "      <td>2008.000000</td>\n",
       "      <td>2.000000</td>\n",
       "      <td>3.000000</td>\n",
       "      <td>5.000000</td>\n",
       "    </tr>\n",
       "    <tr>\n",
       "      <th>50%</th>\n",
       "      <td>2279.000000</td>\n",
       "      <td>4000.000000</td>\n",
       "      <td>8.000000e+04</td>\n",
       "      <td>2012.000000</td>\n",
       "      <td>3.000000</td>\n",
       "      <td>5.000000</td>\n",
       "      <td>5.000000</td>\n",
       "    </tr>\n",
       "    <tr>\n",
       "      <th>75%</th>\n",
       "      <td>3593.000000</td>\n",
       "      <td>7995.000000</td>\n",
       "      <td>1.030000e+05</td>\n",
       "      <td>2015.000000</td>\n",
       "      <td>4.000000</td>\n",
       "      <td>5.000000</td>\n",
       "      <td>5.000000</td>\n",
       "    </tr>\n",
       "    <tr>\n",
       "      <th>max</th>\n",
       "      <td>4727.000000</td>\n",
       "      <td>33900.000000</td>\n",
       "      <td>1.110100e+06</td>\n",
       "      <td>2023.000000</td>\n",
       "      <td>9.000000</td>\n",
       "      <td>5.000000</td>\n",
       "      <td>7.000000</td>\n",
       "    </tr>\n",
       "  </tbody>\n",
       "</table>\n",
       "</div>"
      ],
      "text/plain": [
       "        Unnamed: 0         Price  Mileage(miles)  Registration_Year  \\\n",
       "count  3685.000000   3685.000000    3.685000e+03        3685.000000   \n",
       "mean   2314.770963   5787.145726    8.132816e+04        2011.835007   \n",
       "std    1415.821308   4480.810572    3.942083e+04           5.092566   \n",
       "min       0.000000    400.000000    1.000000e+00        1953.000000   \n",
       "25%    1059.000000   2490.000000    5.698400e+04        2008.000000   \n",
       "50%    2279.000000   4000.000000    8.000000e+04        2012.000000   \n",
       "75%    3593.000000   7995.000000    1.030000e+05        2015.000000   \n",
       "max    4727.000000  33900.000000    1.110100e+06        2023.000000   \n",
       "\n",
       "       Previous Owners        Doors        Seats  \n",
       "count      2276.000000  3660.000000  3650.000000  \n",
       "mean          2.807557     4.321038     4.900274  \n",
       "std           1.546028     0.986902     0.577200  \n",
       "min           1.000000     2.000000     2.000000  \n",
       "25%           2.000000     3.000000     5.000000  \n",
       "50%           3.000000     5.000000     5.000000  \n",
       "75%           4.000000     5.000000     5.000000  \n",
       "max           9.000000     5.000000     7.000000  "
      ]
     },
     "execution_count": 374,
     "metadata": {},
     "output_type": "execute_result"
    }
   ],
   "source": [
    "df.describe()"
   ]
  },
  {
   "cell_type": "markdown",
   "id": "40a6f7cb",
   "metadata": {},
   "source": [
    "### Prepare Data ###"
   ]
  },
  {
   "cell_type": "code",
   "execution_count": 375,
   "id": "f32002ac",
   "metadata": {},
   "outputs": [],
   "source": [
    "df_bak = df.copy()"
   ]
  },
  {
   "cell_type": "code",
   "execution_count": 376,
   "id": "08f9821d",
   "metadata": {},
   "outputs": [
    {
     "data": {
      "text/html": [
       "<div>\n",
       "<style scoped>\n",
       "    .dataframe tbody tr th:only-of-type {\n",
       "        vertical-align: middle;\n",
       "    }\n",
       "\n",
       "    .dataframe tbody tr th {\n",
       "        vertical-align: top;\n",
       "    }\n",
       "\n",
       "    .dataframe thead th {\n",
       "        text-align: right;\n",
       "    }\n",
       "</style>\n",
       "<table border=\"1\" class=\"dataframe\">\n",
       "  <thead>\n",
       "    <tr style=\"text-align: right;\">\n",
       "      <th></th>\n",
       "      <th>Unnamed: 0</th>\n",
       "      <th>title</th>\n",
       "      <th>Price</th>\n",
       "      <th>Mileage(miles)</th>\n",
       "      <th>Registration_Year</th>\n",
       "      <th>Previous Owners</th>\n",
       "      <th>Fuel type</th>\n",
       "      <th>Body type</th>\n",
       "      <th>Engine</th>\n",
       "      <th>Gearbox</th>\n",
       "      <th>Doors</th>\n",
       "      <th>Seats</th>\n",
       "      <th>Emission Class</th>\n",
       "      <th>Service history</th>\n",
       "    </tr>\n",
       "  </thead>\n",
       "  <tbody>\n",
       "    <tr>\n",
       "      <th>0</th>\n",
       "      <td>0</td>\n",
       "      <td>SKODA Fabia</td>\n",
       "      <td>6900</td>\n",
       "      <td>70189</td>\n",
       "      <td>2016</td>\n",
       "      <td>3.0</td>\n",
       "      <td>Diesel</td>\n",
       "      <td>Hatchback</td>\n",
       "      <td>1.4L</td>\n",
       "      <td>Manual</td>\n",
       "      <td>5.0</td>\n",
       "      <td>5.0</td>\n",
       "      <td>Euro 6</td>\n",
       "      <td>NaN</td>\n",
       "    </tr>\n",
       "    <tr>\n",
       "      <th>1</th>\n",
       "      <td>1</td>\n",
       "      <td>Vauxhall Corsa</td>\n",
       "      <td>1495</td>\n",
       "      <td>88585</td>\n",
       "      <td>2008</td>\n",
       "      <td>4.0</td>\n",
       "      <td>Petrol</td>\n",
       "      <td>Hatchback</td>\n",
       "      <td>1.2L</td>\n",
       "      <td>Manual</td>\n",
       "      <td>3.0</td>\n",
       "      <td>5.0</td>\n",
       "      <td>Euro 4</td>\n",
       "      <td>Full</td>\n",
       "    </tr>\n",
       "    <tr>\n",
       "      <th>2</th>\n",
       "      <td>2</td>\n",
       "      <td>Hyundai i30</td>\n",
       "      <td>949</td>\n",
       "      <td>137000</td>\n",
       "      <td>2011</td>\n",
       "      <td>NaN</td>\n",
       "      <td>Petrol</td>\n",
       "      <td>Hatchback</td>\n",
       "      <td>1.4L</td>\n",
       "      <td>Manual</td>\n",
       "      <td>5.0</td>\n",
       "      <td>5.0</td>\n",
       "      <td>Euro 5</td>\n",
       "      <td>NaN</td>\n",
       "    </tr>\n",
       "    <tr>\n",
       "      <th>3</th>\n",
       "      <td>3</td>\n",
       "      <td>MINI Hatch</td>\n",
       "      <td>2395</td>\n",
       "      <td>96731</td>\n",
       "      <td>2010</td>\n",
       "      <td>5.0</td>\n",
       "      <td>Petrol</td>\n",
       "      <td>Hatchback</td>\n",
       "      <td>1.4L</td>\n",
       "      <td>Manual</td>\n",
       "      <td>3.0</td>\n",
       "      <td>4.0</td>\n",
       "      <td>Euro 4</td>\n",
       "      <td>Full</td>\n",
       "    </tr>\n",
       "    <tr>\n",
       "      <th>4</th>\n",
       "      <td>4</td>\n",
       "      <td>Vauxhall Corsa</td>\n",
       "      <td>1000</td>\n",
       "      <td>85000</td>\n",
       "      <td>2013</td>\n",
       "      <td>NaN</td>\n",
       "      <td>Diesel</td>\n",
       "      <td>Hatchback</td>\n",
       "      <td>1.3L</td>\n",
       "      <td>Manual</td>\n",
       "      <td>5.0</td>\n",
       "      <td>5.0</td>\n",
       "      <td>Euro 5</td>\n",
       "      <td>NaN</td>\n",
       "    </tr>\n",
       "  </tbody>\n",
       "</table>\n",
       "</div>"
      ],
      "text/plain": [
       "   Unnamed: 0           title  Price  Mileage(miles)  Registration_Year  \\\n",
       "0           0     SKODA Fabia   6900           70189               2016   \n",
       "1           1  Vauxhall Corsa   1495           88585               2008   \n",
       "2           2     Hyundai i30    949          137000               2011   \n",
       "3           3      MINI Hatch   2395           96731               2010   \n",
       "4           4  Vauxhall Corsa   1000           85000               2013   \n",
       "\n",
       "   Previous Owners Fuel type  Body type Engine Gearbox  Doors  Seats  \\\n",
       "0              3.0    Diesel  Hatchback   1.4L  Manual    5.0    5.0   \n",
       "1              4.0    Petrol  Hatchback   1.2L  Manual    3.0    5.0   \n",
       "2              NaN    Petrol  Hatchback   1.4L  Manual    5.0    5.0   \n",
       "3              5.0    Petrol  Hatchback   1.4L  Manual    3.0    4.0   \n",
       "4              NaN    Diesel  Hatchback   1.3L  Manual    5.0    5.0   \n",
       "\n",
       "  Emission Class Service history  \n",
       "0         Euro 6             NaN  \n",
       "1         Euro 4            Full  \n",
       "2         Euro 5             NaN  \n",
       "3         Euro 4            Full  \n",
       "4         Euro 5             NaN  "
      ]
     },
     "execution_count": 376,
     "metadata": {},
     "output_type": "execute_result"
    }
   ],
   "source": [
    "df.head()"
   ]
  },
  {
   "cell_type": "code",
   "execution_count": 377,
   "id": "0ed41747",
   "metadata": {},
   "outputs": [
    {
     "data": {
      "text/html": [
       "<div>\n",
       "<style scoped>\n",
       "    .dataframe tbody tr th:only-of-type {\n",
       "        vertical-align: middle;\n",
       "    }\n",
       "\n",
       "    .dataframe tbody tr th {\n",
       "        vertical-align: top;\n",
       "    }\n",
       "\n",
       "    .dataframe thead th {\n",
       "        text-align: right;\n",
       "    }\n",
       "</style>\n",
       "<table border=\"1\" class=\"dataframe\">\n",
       "  <thead>\n",
       "    <tr style=\"text-align: right;\">\n",
       "      <th></th>\n",
       "      <th>title</th>\n",
       "      <th>Price</th>\n",
       "      <th>Mileage(miles)</th>\n",
       "      <th>Registration_Year</th>\n",
       "      <th>Previous Owners</th>\n",
       "      <th>Fuel type</th>\n",
       "      <th>Body type</th>\n",
       "      <th>Engine</th>\n",
       "      <th>Gearbox</th>\n",
       "      <th>Doors</th>\n",
       "      <th>Seats</th>\n",
       "      <th>Emission Class</th>\n",
       "      <th>Service history</th>\n",
       "    </tr>\n",
       "  </thead>\n",
       "  <tbody>\n",
       "    <tr>\n",
       "      <th>0</th>\n",
       "      <td>SKODA Fabia</td>\n",
       "      <td>6900</td>\n",
       "      <td>70189</td>\n",
       "      <td>2016</td>\n",
       "      <td>3.0</td>\n",
       "      <td>Diesel</td>\n",
       "      <td>Hatchback</td>\n",
       "      <td>1.4L</td>\n",
       "      <td>Manual</td>\n",
       "      <td>5.0</td>\n",
       "      <td>5.0</td>\n",
       "      <td>Euro 6</td>\n",
       "      <td>NaN</td>\n",
       "    </tr>\n",
       "    <tr>\n",
       "      <th>1</th>\n",
       "      <td>Vauxhall Corsa</td>\n",
       "      <td>1495</td>\n",
       "      <td>88585</td>\n",
       "      <td>2008</td>\n",
       "      <td>4.0</td>\n",
       "      <td>Petrol</td>\n",
       "      <td>Hatchback</td>\n",
       "      <td>1.2L</td>\n",
       "      <td>Manual</td>\n",
       "      <td>3.0</td>\n",
       "      <td>5.0</td>\n",
       "      <td>Euro 4</td>\n",
       "      <td>Full</td>\n",
       "    </tr>\n",
       "    <tr>\n",
       "      <th>2</th>\n",
       "      <td>Hyundai i30</td>\n",
       "      <td>949</td>\n",
       "      <td>137000</td>\n",
       "      <td>2011</td>\n",
       "      <td>NaN</td>\n",
       "      <td>Petrol</td>\n",
       "      <td>Hatchback</td>\n",
       "      <td>1.4L</td>\n",
       "      <td>Manual</td>\n",
       "      <td>5.0</td>\n",
       "      <td>5.0</td>\n",
       "      <td>Euro 5</td>\n",
       "      <td>NaN</td>\n",
       "    </tr>\n",
       "    <tr>\n",
       "      <th>3</th>\n",
       "      <td>MINI Hatch</td>\n",
       "      <td>2395</td>\n",
       "      <td>96731</td>\n",
       "      <td>2010</td>\n",
       "      <td>5.0</td>\n",
       "      <td>Petrol</td>\n",
       "      <td>Hatchback</td>\n",
       "      <td>1.4L</td>\n",
       "      <td>Manual</td>\n",
       "      <td>3.0</td>\n",
       "      <td>4.0</td>\n",
       "      <td>Euro 4</td>\n",
       "      <td>Full</td>\n",
       "    </tr>\n",
       "    <tr>\n",
       "      <th>4</th>\n",
       "      <td>Vauxhall Corsa</td>\n",
       "      <td>1000</td>\n",
       "      <td>85000</td>\n",
       "      <td>2013</td>\n",
       "      <td>NaN</td>\n",
       "      <td>Diesel</td>\n",
       "      <td>Hatchback</td>\n",
       "      <td>1.3L</td>\n",
       "      <td>Manual</td>\n",
       "      <td>5.0</td>\n",
       "      <td>5.0</td>\n",
       "      <td>Euro 5</td>\n",
       "      <td>NaN</td>\n",
       "    </tr>\n",
       "  </tbody>\n",
       "</table>\n",
       "</div>"
      ],
      "text/plain": [
       "            title  Price  Mileage(miles)  Registration_Year  Previous Owners  \\\n",
       "0     SKODA Fabia   6900           70189               2016              3.0   \n",
       "1  Vauxhall Corsa   1495           88585               2008              4.0   \n",
       "2     Hyundai i30    949          137000               2011              NaN   \n",
       "3      MINI Hatch   2395           96731               2010              5.0   \n",
       "4  Vauxhall Corsa   1000           85000               2013              NaN   \n",
       "\n",
       "  Fuel type  Body type Engine Gearbox  Doors  Seats Emission Class  \\\n",
       "0    Diesel  Hatchback   1.4L  Manual    5.0    5.0         Euro 6   \n",
       "1    Petrol  Hatchback   1.2L  Manual    3.0    5.0         Euro 4   \n",
       "2    Petrol  Hatchback   1.4L  Manual    5.0    5.0         Euro 5   \n",
       "3    Petrol  Hatchback   1.4L  Manual    3.0    4.0         Euro 4   \n",
       "4    Diesel  Hatchback   1.3L  Manual    5.0    5.0         Euro 5   \n",
       "\n",
       "  Service history  \n",
       "0             NaN  \n",
       "1            Full  \n",
       "2             NaN  \n",
       "3            Full  \n",
       "4             NaN  "
      ]
     },
     "execution_count": 377,
     "metadata": {},
     "output_type": "execute_result"
    }
   ],
   "source": [
    "# remove first column of dataframe\n",
    "df = df.iloc[:, 1:]\n",
    "df.head()"
   ]
  },
  {
   "cell_type": "code",
   "execution_count": 378,
   "id": "7fb9cabc",
   "metadata": {},
   "outputs": [
    {
     "data": {
      "text/html": [
       "<div>\n",
       "<style scoped>\n",
       "    .dataframe tbody tr th:only-of-type {\n",
       "        vertical-align: middle;\n",
       "    }\n",
       "\n",
       "    .dataframe tbody tr th {\n",
       "        vertical-align: top;\n",
       "    }\n",
       "\n",
       "    .dataframe thead th {\n",
       "        text-align: right;\n",
       "    }\n",
       "</style>\n",
       "<table border=\"1\" class=\"dataframe\">\n",
       "  <thead>\n",
       "    <tr style=\"text-align: right;\">\n",
       "      <th></th>\n",
       "      <th>Price</th>\n",
       "      <th>Mileage(miles)</th>\n",
       "      <th>Registration_Year</th>\n",
       "      <th>Previous Owners</th>\n",
       "      <th>Fuel type</th>\n",
       "      <th>Body type</th>\n",
       "      <th>Engine</th>\n",
       "      <th>Gearbox</th>\n",
       "      <th>Doors</th>\n",
       "      <th>Seats</th>\n",
       "      <th>Emission Class</th>\n",
       "      <th>Service history</th>\n",
       "    </tr>\n",
       "  </thead>\n",
       "  <tbody>\n",
       "    <tr>\n",
       "      <th>0</th>\n",
       "      <td>6900</td>\n",
       "      <td>70189</td>\n",
       "      <td>2016</td>\n",
       "      <td>3.0</td>\n",
       "      <td>Diesel</td>\n",
       "      <td>Hatchback</td>\n",
       "      <td>1.4L</td>\n",
       "      <td>Manual</td>\n",
       "      <td>5.0</td>\n",
       "      <td>5.0</td>\n",
       "      <td>Euro 6</td>\n",
       "      <td>NaN</td>\n",
       "    </tr>\n",
       "    <tr>\n",
       "      <th>1</th>\n",
       "      <td>1495</td>\n",
       "      <td>88585</td>\n",
       "      <td>2008</td>\n",
       "      <td>4.0</td>\n",
       "      <td>Petrol</td>\n",
       "      <td>Hatchback</td>\n",
       "      <td>1.2L</td>\n",
       "      <td>Manual</td>\n",
       "      <td>3.0</td>\n",
       "      <td>5.0</td>\n",
       "      <td>Euro 4</td>\n",
       "      <td>Full</td>\n",
       "    </tr>\n",
       "    <tr>\n",
       "      <th>2</th>\n",
       "      <td>949</td>\n",
       "      <td>137000</td>\n",
       "      <td>2011</td>\n",
       "      <td>NaN</td>\n",
       "      <td>Petrol</td>\n",
       "      <td>Hatchback</td>\n",
       "      <td>1.4L</td>\n",
       "      <td>Manual</td>\n",
       "      <td>5.0</td>\n",
       "      <td>5.0</td>\n",
       "      <td>Euro 5</td>\n",
       "      <td>NaN</td>\n",
       "    </tr>\n",
       "    <tr>\n",
       "      <th>3</th>\n",
       "      <td>2395</td>\n",
       "      <td>96731</td>\n",
       "      <td>2010</td>\n",
       "      <td>5.0</td>\n",
       "      <td>Petrol</td>\n",
       "      <td>Hatchback</td>\n",
       "      <td>1.4L</td>\n",
       "      <td>Manual</td>\n",
       "      <td>3.0</td>\n",
       "      <td>4.0</td>\n",
       "      <td>Euro 4</td>\n",
       "      <td>Full</td>\n",
       "    </tr>\n",
       "    <tr>\n",
       "      <th>4</th>\n",
       "      <td>1000</td>\n",
       "      <td>85000</td>\n",
       "      <td>2013</td>\n",
       "      <td>NaN</td>\n",
       "      <td>Diesel</td>\n",
       "      <td>Hatchback</td>\n",
       "      <td>1.3L</td>\n",
       "      <td>Manual</td>\n",
       "      <td>5.0</td>\n",
       "      <td>5.0</td>\n",
       "      <td>Euro 5</td>\n",
       "      <td>NaN</td>\n",
       "    </tr>\n",
       "  </tbody>\n",
       "</table>\n",
       "</div>"
      ],
      "text/plain": [
       "   Price  Mileage(miles)  Registration_Year  Previous Owners Fuel type  \\\n",
       "0   6900           70189               2016              3.0    Diesel   \n",
       "1   1495           88585               2008              4.0    Petrol   \n",
       "2    949          137000               2011              NaN    Petrol   \n",
       "3   2395           96731               2010              5.0    Petrol   \n",
       "4   1000           85000               2013              NaN    Diesel   \n",
       "\n",
       "   Body type Engine Gearbox  Doors  Seats Emission Class Service history  \n",
       "0  Hatchback   1.4L  Manual    5.0    5.0         Euro 6             NaN  \n",
       "1  Hatchback   1.2L  Manual    3.0    5.0         Euro 4            Full  \n",
       "2  Hatchback   1.4L  Manual    5.0    5.0         Euro 5             NaN  \n",
       "3  Hatchback   1.4L  Manual    3.0    4.0         Euro 4            Full  \n",
       "4  Hatchback   1.3L  Manual    5.0    5.0         Euro 5             NaN  "
      ]
     },
     "execution_count": 378,
     "metadata": {},
     "output_type": "execute_result"
    }
   ],
   "source": [
    "# remove second column of dataframe\n",
    "df = df.iloc[:, 1:]\n",
    "df.head()"
   ]
  },
  {
   "cell_type": "code",
   "execution_count": 379,
   "id": "07b52ee2",
   "metadata": {},
   "outputs": [
    {
     "data": {
      "text/html": [
       "<div>\n",
       "<style scoped>\n",
       "    .dataframe tbody tr th:only-of-type {\n",
       "        vertical-align: middle;\n",
       "    }\n",
       "\n",
       "    .dataframe tbody tr th {\n",
       "        vertical-align: top;\n",
       "    }\n",
       "\n",
       "    .dataframe thead th {\n",
       "        text-align: right;\n",
       "    }\n",
       "</style>\n",
       "<table border=\"1\" class=\"dataframe\">\n",
       "  <thead>\n",
       "    <tr style=\"text-align: right;\">\n",
       "      <th></th>\n",
       "      <th>price</th>\n",
       "      <th>mileage(miles)</th>\n",
       "      <th>registration_year</th>\n",
       "      <th>previous owners</th>\n",
       "      <th>fuel type</th>\n",
       "      <th>body type</th>\n",
       "      <th>engine</th>\n",
       "      <th>gearbox</th>\n",
       "      <th>doors</th>\n",
       "      <th>seats</th>\n",
       "      <th>emission class</th>\n",
       "      <th>service history</th>\n",
       "    </tr>\n",
       "  </thead>\n",
       "  <tbody>\n",
       "    <tr>\n",
       "      <th>0</th>\n",
       "      <td>6900</td>\n",
       "      <td>70189</td>\n",
       "      <td>2016</td>\n",
       "      <td>3.0</td>\n",
       "      <td>Diesel</td>\n",
       "      <td>Hatchback</td>\n",
       "      <td>1.4L</td>\n",
       "      <td>Manual</td>\n",
       "      <td>5.0</td>\n",
       "      <td>5.0</td>\n",
       "      <td>Euro 6</td>\n",
       "      <td>NaN</td>\n",
       "    </tr>\n",
       "    <tr>\n",
       "      <th>1</th>\n",
       "      <td>1495</td>\n",
       "      <td>88585</td>\n",
       "      <td>2008</td>\n",
       "      <td>4.0</td>\n",
       "      <td>Petrol</td>\n",
       "      <td>Hatchback</td>\n",
       "      <td>1.2L</td>\n",
       "      <td>Manual</td>\n",
       "      <td>3.0</td>\n",
       "      <td>5.0</td>\n",
       "      <td>Euro 4</td>\n",
       "      <td>Full</td>\n",
       "    </tr>\n",
       "    <tr>\n",
       "      <th>2</th>\n",
       "      <td>949</td>\n",
       "      <td>137000</td>\n",
       "      <td>2011</td>\n",
       "      <td>NaN</td>\n",
       "      <td>Petrol</td>\n",
       "      <td>Hatchback</td>\n",
       "      <td>1.4L</td>\n",
       "      <td>Manual</td>\n",
       "      <td>5.0</td>\n",
       "      <td>5.0</td>\n",
       "      <td>Euro 5</td>\n",
       "      <td>NaN</td>\n",
       "    </tr>\n",
       "    <tr>\n",
       "      <th>3</th>\n",
       "      <td>2395</td>\n",
       "      <td>96731</td>\n",
       "      <td>2010</td>\n",
       "      <td>5.0</td>\n",
       "      <td>Petrol</td>\n",
       "      <td>Hatchback</td>\n",
       "      <td>1.4L</td>\n",
       "      <td>Manual</td>\n",
       "      <td>3.0</td>\n",
       "      <td>4.0</td>\n",
       "      <td>Euro 4</td>\n",
       "      <td>Full</td>\n",
       "    </tr>\n",
       "    <tr>\n",
       "      <th>4</th>\n",
       "      <td>1000</td>\n",
       "      <td>85000</td>\n",
       "      <td>2013</td>\n",
       "      <td>NaN</td>\n",
       "      <td>Diesel</td>\n",
       "      <td>Hatchback</td>\n",
       "      <td>1.3L</td>\n",
       "      <td>Manual</td>\n",
       "      <td>5.0</td>\n",
       "      <td>5.0</td>\n",
       "      <td>Euro 5</td>\n",
       "      <td>NaN</td>\n",
       "    </tr>\n",
       "  </tbody>\n",
       "</table>\n",
       "</div>"
      ],
      "text/plain": [
       "   price  mileage(miles)  registration_year  previous owners fuel type  \\\n",
       "0   6900           70189               2016              3.0    Diesel   \n",
       "1   1495           88585               2008              4.0    Petrol   \n",
       "2    949          137000               2011              NaN    Petrol   \n",
       "3   2395           96731               2010              5.0    Petrol   \n",
       "4   1000           85000               2013              NaN    Diesel   \n",
       "\n",
       "   body type engine gearbox  doors  seats emission class service history  \n",
       "0  Hatchback   1.4L  Manual    5.0    5.0         Euro 6             NaN  \n",
       "1  Hatchback   1.2L  Manual    3.0    5.0         Euro 4            Full  \n",
       "2  Hatchback   1.4L  Manual    5.0    5.0         Euro 5             NaN  \n",
       "3  Hatchback   1.4L  Manual    3.0    4.0         Euro 4            Full  \n",
       "4  Hatchback   1.3L  Manual    5.0    5.0         Euro 5             NaN  "
      ]
     },
     "execution_count": 379,
     "metadata": {},
     "output_type": "execute_result"
    }
   ],
   "source": [
    "# make all column headings lower case\n",
    "df.columns = df.columns.str.lower()\n",
    "df.head()"
   ]
  },
  {
   "cell_type": "code",
   "execution_count": 380,
   "id": "7f7a93b1",
   "metadata": {},
   "outputs": [
    {
     "data": {
      "text/html": [
       "<div>\n",
       "<style scoped>\n",
       "    .dataframe tbody tr th:only-of-type {\n",
       "        vertical-align: middle;\n",
       "    }\n",
       "\n",
       "    .dataframe tbody tr th {\n",
       "        vertical-align: top;\n",
       "    }\n",
       "\n",
       "    .dataframe thead th {\n",
       "        text-align: right;\n",
       "    }\n",
       "</style>\n",
       "<table border=\"1\" class=\"dataframe\">\n",
       "  <thead>\n",
       "    <tr style=\"text-align: right;\">\n",
       "      <th></th>\n",
       "      <th>price</th>\n",
       "      <th>mileage_miles</th>\n",
       "      <th>registration_year</th>\n",
       "      <th>previous_owners</th>\n",
       "      <th>fuel_type</th>\n",
       "      <th>body_type</th>\n",
       "      <th>engine</th>\n",
       "      <th>gearbox</th>\n",
       "      <th>doors</th>\n",
       "      <th>seats</th>\n",
       "      <th>emission_class</th>\n",
       "      <th>service_history</th>\n",
       "    </tr>\n",
       "  </thead>\n",
       "  <tbody>\n",
       "    <tr>\n",
       "      <th>0</th>\n",
       "      <td>6900</td>\n",
       "      <td>70189</td>\n",
       "      <td>2016</td>\n",
       "      <td>3.0</td>\n",
       "      <td>Diesel</td>\n",
       "      <td>Hatchback</td>\n",
       "      <td>1.4L</td>\n",
       "      <td>Manual</td>\n",
       "      <td>5.0</td>\n",
       "      <td>5.0</td>\n",
       "      <td>Euro 6</td>\n",
       "      <td>NaN</td>\n",
       "    </tr>\n",
       "    <tr>\n",
       "      <th>1</th>\n",
       "      <td>1495</td>\n",
       "      <td>88585</td>\n",
       "      <td>2008</td>\n",
       "      <td>4.0</td>\n",
       "      <td>Petrol</td>\n",
       "      <td>Hatchback</td>\n",
       "      <td>1.2L</td>\n",
       "      <td>Manual</td>\n",
       "      <td>3.0</td>\n",
       "      <td>5.0</td>\n",
       "      <td>Euro 4</td>\n",
       "      <td>Full</td>\n",
       "    </tr>\n",
       "    <tr>\n",
       "      <th>2</th>\n",
       "      <td>949</td>\n",
       "      <td>137000</td>\n",
       "      <td>2011</td>\n",
       "      <td>NaN</td>\n",
       "      <td>Petrol</td>\n",
       "      <td>Hatchback</td>\n",
       "      <td>1.4L</td>\n",
       "      <td>Manual</td>\n",
       "      <td>5.0</td>\n",
       "      <td>5.0</td>\n",
       "      <td>Euro 5</td>\n",
       "      <td>NaN</td>\n",
       "    </tr>\n",
       "    <tr>\n",
       "      <th>3</th>\n",
       "      <td>2395</td>\n",
       "      <td>96731</td>\n",
       "      <td>2010</td>\n",
       "      <td>5.0</td>\n",
       "      <td>Petrol</td>\n",
       "      <td>Hatchback</td>\n",
       "      <td>1.4L</td>\n",
       "      <td>Manual</td>\n",
       "      <td>3.0</td>\n",
       "      <td>4.0</td>\n",
       "      <td>Euro 4</td>\n",
       "      <td>Full</td>\n",
       "    </tr>\n",
       "    <tr>\n",
       "      <th>4</th>\n",
       "      <td>1000</td>\n",
       "      <td>85000</td>\n",
       "      <td>2013</td>\n",
       "      <td>NaN</td>\n",
       "      <td>Diesel</td>\n",
       "      <td>Hatchback</td>\n",
       "      <td>1.3L</td>\n",
       "      <td>Manual</td>\n",
       "      <td>5.0</td>\n",
       "      <td>5.0</td>\n",
       "      <td>Euro 5</td>\n",
       "      <td>NaN</td>\n",
       "    </tr>\n",
       "  </tbody>\n",
       "</table>\n",
       "</div>"
      ],
      "text/plain": [
       "   price  mileage_miles  registration_year  previous_owners fuel_type  \\\n",
       "0   6900          70189               2016              3.0    Diesel   \n",
       "1   1495          88585               2008              4.0    Petrol   \n",
       "2    949         137000               2011              NaN    Petrol   \n",
       "3   2395          96731               2010              5.0    Petrol   \n",
       "4   1000          85000               2013              NaN    Diesel   \n",
       "\n",
       "   body_type engine gearbox  doors  seats emission_class service_history  \n",
       "0  Hatchback   1.4L  Manual    5.0    5.0         Euro 6             NaN  \n",
       "1  Hatchback   1.2L  Manual    3.0    5.0         Euro 4            Full  \n",
       "2  Hatchback   1.4L  Manual    5.0    5.0         Euro 5             NaN  \n",
       "3  Hatchback   1.4L  Manual    3.0    4.0         Euro 4            Full  \n",
       "4  Hatchback   1.3L  Manual    5.0    5.0         Euro 5             NaN  "
      ]
     },
     "execution_count": 380,
     "metadata": {},
     "output_type": "execute_result"
    }
   ],
   "source": [
    "# replace all ' ' (blanks) and '(' (open breackets#) with '_' (underscore) in all column headings\n",
    "# remove any ')' (close brackets)\n",
    "df.columns = df.columns.str.replace(' ', '_')\n",
    "df.columns = df.columns.str.replace('(', '_')\n",
    "df.columns = df.columns.str.replace(')', '')\n",
    "df.head()"
   ]
  },
  {
   "cell_type": "code",
   "execution_count": 381,
   "id": "8bcff26e",
   "metadata": {},
   "outputs": [
    {
     "data": {
      "text/plain": [
       "price                   0\n",
       "mileage_miles           0\n",
       "registration_year       0\n",
       "previous_owners      1409\n",
       "fuel_type               0\n",
       "body_type               0\n",
       "engine                 45\n",
       "gearbox                 0\n",
       "doors                  25\n",
       "seats                  35\n",
       "emission_class         87\n",
       "service_history      3145\n",
       "dtype: int64"
      ]
     },
     "execution_count": 381,
     "metadata": {},
     "output_type": "execute_result"
    }
   ],
   "source": [
    "# find columns with null\n",
    "null_counts = df.isna().sum()\n",
    "null_counts"
   ]
  },
  {
   "cell_type": "code",
   "execution_count": 382,
   "id": "dfab57f7",
   "metadata": {},
   "outputs": [
    {
     "data": {
      "text/plain": [
       "service_history\n",
       "Full    14.65\n",
       "Name: count, dtype: float64"
      ]
     },
     "execution_count": 382,
     "metadata": {},
     "output_type": "execute_result"
    }
   ],
   "source": [
    "# find percentatge of service_history values that are null\n",
    "(df.service_history.value_counts() / df.shape[0] * 100).round(2)"
   ]
  },
  {
   "cell_type": "code",
   "execution_count": 383,
   "id": "f03c0bcd",
   "metadata": {},
   "outputs": [
    {
     "data": {
      "text/html": [
       "<div>\n",
       "<style scoped>\n",
       "    .dataframe tbody tr th:only-of-type {\n",
       "        vertical-align: middle;\n",
       "    }\n",
       "\n",
       "    .dataframe tbody tr th {\n",
       "        vertical-align: top;\n",
       "    }\n",
       "\n",
       "    .dataframe thead th {\n",
       "        text-align: right;\n",
       "    }\n",
       "</style>\n",
       "<table border=\"1\" class=\"dataframe\">\n",
       "  <thead>\n",
       "    <tr style=\"text-align: right;\">\n",
       "      <th></th>\n",
       "      <th>price</th>\n",
       "      <th>mileage_miles</th>\n",
       "      <th>registration_year</th>\n",
       "      <th>previous_owners</th>\n",
       "      <th>fuel_type</th>\n",
       "      <th>body_type</th>\n",
       "      <th>engine</th>\n",
       "      <th>gearbox</th>\n",
       "      <th>doors</th>\n",
       "      <th>seats</th>\n",
       "      <th>emission_class</th>\n",
       "      <th>service_history</th>\n",
       "    </tr>\n",
       "  </thead>\n",
       "  <tbody>\n",
       "    <tr>\n",
       "      <th>0</th>\n",
       "      <td>6900</td>\n",
       "      <td>70189</td>\n",
       "      <td>2016</td>\n",
       "      <td>3.0</td>\n",
       "      <td>Diesel</td>\n",
       "      <td>Hatchback</td>\n",
       "      <td>1.4L</td>\n",
       "      <td>Manual</td>\n",
       "      <td>5.0</td>\n",
       "      <td>5.0</td>\n",
       "      <td>Euro 6</td>\n",
       "      <td>unk</td>\n",
       "    </tr>\n",
       "    <tr>\n",
       "      <th>1</th>\n",
       "      <td>1495</td>\n",
       "      <td>88585</td>\n",
       "      <td>2008</td>\n",
       "      <td>4.0</td>\n",
       "      <td>Petrol</td>\n",
       "      <td>Hatchback</td>\n",
       "      <td>1.2L</td>\n",
       "      <td>Manual</td>\n",
       "      <td>3.0</td>\n",
       "      <td>5.0</td>\n",
       "      <td>Euro 4</td>\n",
       "      <td>Full</td>\n",
       "    </tr>\n",
       "    <tr>\n",
       "      <th>2</th>\n",
       "      <td>949</td>\n",
       "      <td>137000</td>\n",
       "      <td>2011</td>\n",
       "      <td>NaN</td>\n",
       "      <td>Petrol</td>\n",
       "      <td>Hatchback</td>\n",
       "      <td>1.4L</td>\n",
       "      <td>Manual</td>\n",
       "      <td>5.0</td>\n",
       "      <td>5.0</td>\n",
       "      <td>Euro 5</td>\n",
       "      <td>unk</td>\n",
       "    </tr>\n",
       "    <tr>\n",
       "      <th>3</th>\n",
       "      <td>2395</td>\n",
       "      <td>96731</td>\n",
       "      <td>2010</td>\n",
       "      <td>5.0</td>\n",
       "      <td>Petrol</td>\n",
       "      <td>Hatchback</td>\n",
       "      <td>1.4L</td>\n",
       "      <td>Manual</td>\n",
       "      <td>3.0</td>\n",
       "      <td>4.0</td>\n",
       "      <td>Euro 4</td>\n",
       "      <td>Full</td>\n",
       "    </tr>\n",
       "    <tr>\n",
       "      <th>4</th>\n",
       "      <td>1000</td>\n",
       "      <td>85000</td>\n",
       "      <td>2013</td>\n",
       "      <td>NaN</td>\n",
       "      <td>Diesel</td>\n",
       "      <td>Hatchback</td>\n",
       "      <td>1.3L</td>\n",
       "      <td>Manual</td>\n",
       "      <td>5.0</td>\n",
       "      <td>5.0</td>\n",
       "      <td>Euro 5</td>\n",
       "      <td>unk</td>\n",
       "    </tr>\n",
       "  </tbody>\n",
       "</table>\n",
       "</div>"
      ],
      "text/plain": [
       "   price  mileage_miles  registration_year  previous_owners fuel_type  \\\n",
       "0   6900          70189               2016              3.0    Diesel   \n",
       "1   1495          88585               2008              4.0    Petrol   \n",
       "2    949         137000               2011              NaN    Petrol   \n",
       "3   2395          96731               2010              5.0    Petrol   \n",
       "4   1000          85000               2013              NaN    Diesel   \n",
       "\n",
       "   body_type engine gearbox  doors  seats emission_class service_history  \n",
       "0  Hatchback   1.4L  Manual    5.0    5.0         Euro 6             unk  \n",
       "1  Hatchback   1.2L  Manual    3.0    5.0         Euro 4            Full  \n",
       "2  Hatchback   1.4L  Manual    5.0    5.0         Euro 5             unk  \n",
       "3  Hatchback   1.4L  Manual    3.0    4.0         Euro 4            Full  \n",
       "4  Hatchback   1.3L  Manual    5.0    5.0         Euro 5             unk  "
      ]
     },
     "execution_count": 383,
     "metadata": {},
     "output_type": "execute_result"
    }
   ],
   "source": [
    "# replace service_history null values with 'unk'\n",
    "df['service_history'].fillna('unk', inplace=True)\n",
    "df.head()"
   ]
  },
  {
   "cell_type": "code",
   "execution_count": 384,
   "id": "c15885bc",
   "metadata": {},
   "outputs": [
    {
     "data": {
      "text/plain": [
       "previous_owners\n",
       "2.0    594\n",
       "1.0    523\n",
       "3.0    475\n",
       "4.0    360\n",
       "5.0    208\n",
       "6.0     60\n",
       "7.0     39\n",
       "8.0     12\n",
       "9.0      5\n",
       "Name: count, dtype: int64"
      ]
     },
     "execution_count": 384,
     "metadata": {},
     "output_type": "execute_result"
    }
   ],
   "source": [
    "df.previous_owners.value_counts()"
   ]
  },
  {
   "cell_type": "code",
   "execution_count": 385,
   "id": "ef00ecb8",
   "metadata": {},
   "outputs": [
    {
     "data": {
      "text/html": [
       "<div>\n",
       "<style scoped>\n",
       "    .dataframe tbody tr th:only-of-type {\n",
       "        vertical-align: middle;\n",
       "    }\n",
       "\n",
       "    .dataframe tbody tr th {\n",
       "        vertical-align: top;\n",
       "    }\n",
       "\n",
       "    .dataframe thead th {\n",
       "        text-align: right;\n",
       "    }\n",
       "</style>\n",
       "<table border=\"1\" class=\"dataframe\">\n",
       "  <thead>\n",
       "    <tr style=\"text-align: right;\">\n",
       "      <th></th>\n",
       "      <th>price</th>\n",
       "      <th>mileage_miles</th>\n",
       "      <th>registration_year</th>\n",
       "      <th>previous_owners</th>\n",
       "      <th>fuel_type</th>\n",
       "      <th>body_type</th>\n",
       "      <th>engine</th>\n",
       "      <th>gearbox</th>\n",
       "      <th>doors</th>\n",
       "      <th>seats</th>\n",
       "      <th>emission_class</th>\n",
       "      <th>service_history</th>\n",
       "    </tr>\n",
       "  </thead>\n",
       "  <tbody>\n",
       "    <tr>\n",
       "      <th>0</th>\n",
       "      <td>6900</td>\n",
       "      <td>70189</td>\n",
       "      <td>2016</td>\n",
       "      <td>3.0</td>\n",
       "      <td>Diesel</td>\n",
       "      <td>Hatchback</td>\n",
       "      <td>1.4L</td>\n",
       "      <td>Manual</td>\n",
       "      <td>5.0</td>\n",
       "      <td>5.0</td>\n",
       "      <td>Euro 6</td>\n",
       "      <td>unk</td>\n",
       "    </tr>\n",
       "    <tr>\n",
       "      <th>1</th>\n",
       "      <td>1495</td>\n",
       "      <td>88585</td>\n",
       "      <td>2008</td>\n",
       "      <td>4.0</td>\n",
       "      <td>Petrol</td>\n",
       "      <td>Hatchback</td>\n",
       "      <td>1.2L</td>\n",
       "      <td>Manual</td>\n",
       "      <td>3.0</td>\n",
       "      <td>5.0</td>\n",
       "      <td>Euro 4</td>\n",
       "      <td>Full</td>\n",
       "    </tr>\n",
       "    <tr>\n",
       "      <th>2</th>\n",
       "      <td>949</td>\n",
       "      <td>137000</td>\n",
       "      <td>2011</td>\n",
       "      <td>0.0</td>\n",
       "      <td>Petrol</td>\n",
       "      <td>Hatchback</td>\n",
       "      <td>1.4L</td>\n",
       "      <td>Manual</td>\n",
       "      <td>5.0</td>\n",
       "      <td>5.0</td>\n",
       "      <td>Euro 5</td>\n",
       "      <td>unk</td>\n",
       "    </tr>\n",
       "    <tr>\n",
       "      <th>3</th>\n",
       "      <td>2395</td>\n",
       "      <td>96731</td>\n",
       "      <td>2010</td>\n",
       "      <td>5.0</td>\n",
       "      <td>Petrol</td>\n",
       "      <td>Hatchback</td>\n",
       "      <td>1.4L</td>\n",
       "      <td>Manual</td>\n",
       "      <td>3.0</td>\n",
       "      <td>4.0</td>\n",
       "      <td>Euro 4</td>\n",
       "      <td>Full</td>\n",
       "    </tr>\n",
       "    <tr>\n",
       "      <th>4</th>\n",
       "      <td>1000</td>\n",
       "      <td>85000</td>\n",
       "      <td>2013</td>\n",
       "      <td>0.0</td>\n",
       "      <td>Diesel</td>\n",
       "      <td>Hatchback</td>\n",
       "      <td>1.3L</td>\n",
       "      <td>Manual</td>\n",
       "      <td>5.0</td>\n",
       "      <td>5.0</td>\n",
       "      <td>Euro 5</td>\n",
       "      <td>unk</td>\n",
       "    </tr>\n",
       "  </tbody>\n",
       "</table>\n",
       "</div>"
      ],
      "text/plain": [
       "   price  mileage_miles  registration_year  previous_owners fuel_type  \\\n",
       "0   6900          70189               2016              3.0    Diesel   \n",
       "1   1495          88585               2008              4.0    Petrol   \n",
       "2    949         137000               2011              0.0    Petrol   \n",
       "3   2395          96731               2010              5.0    Petrol   \n",
       "4   1000          85000               2013              0.0    Diesel   \n",
       "\n",
       "   body_type engine gearbox  doors  seats emission_class service_history  \n",
       "0  Hatchback   1.4L  Manual    5.0    5.0         Euro 6             unk  \n",
       "1  Hatchback   1.2L  Manual    3.0    5.0         Euro 4            Full  \n",
       "2  Hatchback   1.4L  Manual    5.0    5.0         Euro 5             unk  \n",
       "3  Hatchback   1.4L  Manual    3.0    4.0         Euro 4            Full  \n",
       "4  Hatchback   1.3L  Manual    5.0    5.0         Euro 5             unk  "
      ]
     },
     "execution_count": 385,
     "metadata": {},
     "output_type": "execute_result"
    }
   ],
   "source": [
    "# reeplace previous_owners null values with '0'\n",
    "df['previous_owners'].fillna(0.0, inplace=True)\n",
    "df.head()"
   ]
  },
  {
   "cell_type": "code",
   "execution_count": 386,
   "id": "3e52b30a",
   "metadata": {},
   "outputs": [
    {
     "data": {
      "text/html": [
       "<div>\n",
       "<style scoped>\n",
       "    .dataframe tbody tr th:only-of-type {\n",
       "        vertical-align: middle;\n",
       "    }\n",
       "\n",
       "    .dataframe tbody tr th {\n",
       "        vertical-align: top;\n",
       "    }\n",
       "\n",
       "    .dataframe thead th {\n",
       "        text-align: right;\n",
       "    }\n",
       "</style>\n",
       "<table border=\"1\" class=\"dataframe\">\n",
       "  <thead>\n",
       "    <tr style=\"text-align: right;\">\n",
       "      <th></th>\n",
       "      <th>price</th>\n",
       "      <th>mileage_miles</th>\n",
       "      <th>registration_year</th>\n",
       "      <th>previous_owners</th>\n",
       "      <th>fuel_type</th>\n",
       "      <th>body_type</th>\n",
       "      <th>engine</th>\n",
       "      <th>gearbox</th>\n",
       "      <th>doors</th>\n",
       "      <th>seats</th>\n",
       "      <th>emission_class</th>\n",
       "      <th>service_history</th>\n",
       "    </tr>\n",
       "  </thead>\n",
       "  <tbody>\n",
       "    <tr>\n",
       "      <th>0</th>\n",
       "      <td>6900</td>\n",
       "      <td>70189</td>\n",
       "      <td>2016</td>\n",
       "      <td>3.0</td>\n",
       "      <td>Diesel</td>\n",
       "      <td>Hatchback</td>\n",
       "      <td>1.4L</td>\n",
       "      <td>Manual</td>\n",
       "      <td>5.0</td>\n",
       "      <td>5.0</td>\n",
       "      <td>Euro 6</td>\n",
       "      <td>unk</td>\n",
       "    </tr>\n",
       "    <tr>\n",
       "      <th>1</th>\n",
       "      <td>1495</td>\n",
       "      <td>88585</td>\n",
       "      <td>2008</td>\n",
       "      <td>4.0</td>\n",
       "      <td>Petrol</td>\n",
       "      <td>Hatchback</td>\n",
       "      <td>1.2L</td>\n",
       "      <td>Manual</td>\n",
       "      <td>3.0</td>\n",
       "      <td>5.0</td>\n",
       "      <td>Euro 4</td>\n",
       "      <td>Full</td>\n",
       "    </tr>\n",
       "    <tr>\n",
       "      <th>2</th>\n",
       "      <td>949</td>\n",
       "      <td>137000</td>\n",
       "      <td>2011</td>\n",
       "      <td>0.0</td>\n",
       "      <td>Petrol</td>\n",
       "      <td>Hatchback</td>\n",
       "      <td>1.4L</td>\n",
       "      <td>Manual</td>\n",
       "      <td>5.0</td>\n",
       "      <td>5.0</td>\n",
       "      <td>Euro 5</td>\n",
       "      <td>unk</td>\n",
       "    </tr>\n",
       "    <tr>\n",
       "      <th>3</th>\n",
       "      <td>2395</td>\n",
       "      <td>96731</td>\n",
       "      <td>2010</td>\n",
       "      <td>5.0</td>\n",
       "      <td>Petrol</td>\n",
       "      <td>Hatchback</td>\n",
       "      <td>1.4L</td>\n",
       "      <td>Manual</td>\n",
       "      <td>3.0</td>\n",
       "      <td>4.0</td>\n",
       "      <td>Euro 4</td>\n",
       "      <td>Full</td>\n",
       "    </tr>\n",
       "    <tr>\n",
       "      <th>4</th>\n",
       "      <td>1000</td>\n",
       "      <td>85000</td>\n",
       "      <td>2013</td>\n",
       "      <td>0.0</td>\n",
       "      <td>Diesel</td>\n",
       "      <td>Hatchback</td>\n",
       "      <td>1.3L</td>\n",
       "      <td>Manual</td>\n",
       "      <td>5.0</td>\n",
       "      <td>5.0</td>\n",
       "      <td>Euro 5</td>\n",
       "      <td>unk</td>\n",
       "    </tr>\n",
       "  </tbody>\n",
       "</table>\n",
       "</div>"
      ],
      "text/plain": [
       "   price  mileage_miles  registration_year  previous_owners fuel_type  \\\n",
       "0   6900          70189               2016              3.0    Diesel   \n",
       "1   1495          88585               2008              4.0    Petrol   \n",
       "2    949         137000               2011              0.0    Petrol   \n",
       "3   2395          96731               2010              5.0    Petrol   \n",
       "4   1000          85000               2013              0.0    Diesel   \n",
       "\n",
       "   body_type engine gearbox  doors  seats emission_class service_history  \n",
       "0  Hatchback   1.4L  Manual    5.0    5.0         Euro 6             unk  \n",
       "1  Hatchback   1.2L  Manual    3.0    5.0         Euro 4            Full  \n",
       "2  Hatchback   1.4L  Manual    5.0    5.0         Euro 5             unk  \n",
       "3  Hatchback   1.4L  Manual    3.0    4.0         Euro 4            Full  \n",
       "4  Hatchback   1.3L  Manual    5.0    5.0         Euro 5             unk  "
      ]
     },
     "execution_count": 386,
     "metadata": {},
     "output_type": "execute_result"
    }
   ],
   "source": [
    "df.head()"
   ]
  },
  {
   "cell_type": "code",
   "execution_count": 387,
   "id": "afa06dc3",
   "metadata": {},
   "outputs": [
    {
     "data": {
      "text/plain": [
       "(3591, 12)"
      ]
     },
     "execution_count": 387,
     "metadata": {},
     "output_type": "execute_result"
    }
   ],
   "source": [
    "# remove rows where engine, gearbox, doors, seats or emission_class are null\n",
    "df = df[~(df['engine'].isna() | df['gearbox'].isna() | df['doors'].isna() | df['seats'].isna() | df['emission_class'].isna())]\n",
    "df.shape\n"
   ]
  },
  {
   "cell_type": "code",
   "execution_count": 388,
   "id": "af0368fa",
   "metadata": {},
   "outputs": [
    {
     "data": {
      "text/plain": [
       "price                0\n",
       "mileage_miles        0\n",
       "registration_year    0\n",
       "previous_owners      0\n",
       "fuel_type            0\n",
       "body_type            0\n",
       "engine               0\n",
       "gearbox              0\n",
       "doors                0\n",
       "seats                0\n",
       "emission_class       0\n",
       "service_history      0\n",
       "dtype: int64"
      ]
     },
     "execution_count": 388,
     "metadata": {},
     "output_type": "execute_result"
    }
   ],
   "source": [
    "# find columns with null\n",
    "null_counts = df.isna().sum()\n",
    "null_counts"
   ]
  },
  {
   "cell_type": "code",
   "execution_count": 389,
   "id": "dc9828bf",
   "metadata": {},
   "outputs": [
    {
     "data": {
      "text/html": [
       "<div>\n",
       "<style scoped>\n",
       "    .dataframe tbody tr th:only-of-type {\n",
       "        vertical-align: middle;\n",
       "    }\n",
       "\n",
       "    .dataframe tbody tr th {\n",
       "        vertical-align: top;\n",
       "    }\n",
       "\n",
       "    .dataframe thead th {\n",
       "        text-align: right;\n",
       "    }\n",
       "</style>\n",
       "<table border=\"1\" class=\"dataframe\">\n",
       "  <thead>\n",
       "    <tr style=\"text-align: right;\">\n",
       "      <th></th>\n",
       "      <th>price</th>\n",
       "      <th>mileage_miles</th>\n",
       "      <th>registration_year</th>\n",
       "      <th>previous_owners</th>\n",
       "      <th>doors</th>\n",
       "      <th>seats</th>\n",
       "    </tr>\n",
       "  </thead>\n",
       "  <tbody>\n",
       "    <tr>\n",
       "      <th>count</th>\n",
       "      <td>3591.0</td>\n",
       "      <td>3591.0</td>\n",
       "      <td>3591.0</td>\n",
       "      <td>3591.0</td>\n",
       "      <td>3591.0</td>\n",
       "      <td>3591.0</td>\n",
       "    </tr>\n",
       "    <tr>\n",
       "      <th>mean</th>\n",
       "      <td>5792.0</td>\n",
       "      <td>81511.0</td>\n",
       "      <td>2012.0</td>\n",
       "      <td>2.0</td>\n",
       "      <td>4.0</td>\n",
       "      <td>5.0</td>\n",
       "    </tr>\n",
       "    <tr>\n",
       "      <th>std</th>\n",
       "      <td>4515.0</td>\n",
       "      <td>39545.0</td>\n",
       "      <td>5.0</td>\n",
       "      <td>2.0</td>\n",
       "      <td>1.0</td>\n",
       "      <td>1.0</td>\n",
       "    </tr>\n",
       "    <tr>\n",
       "      <th>min</th>\n",
       "      <td>400.0</td>\n",
       "      <td>1.0</td>\n",
       "      <td>1993.0</td>\n",
       "      <td>0.0</td>\n",
       "      <td>2.0</td>\n",
       "      <td>2.0</td>\n",
       "    </tr>\n",
       "    <tr>\n",
       "      <th>25%</th>\n",
       "      <td>2490.0</td>\n",
       "      <td>56984.0</td>\n",
       "      <td>2008.0</td>\n",
       "      <td>0.0</td>\n",
       "      <td>3.0</td>\n",
       "      <td>5.0</td>\n",
       "    </tr>\n",
       "    <tr>\n",
       "      <th>50%</th>\n",
       "      <td>3999.0</td>\n",
       "      <td>80000.0</td>\n",
       "      <td>2012.0</td>\n",
       "      <td>1.0</td>\n",
       "      <td>5.0</td>\n",
       "      <td>5.0</td>\n",
       "    </tr>\n",
       "    <tr>\n",
       "      <th>75%</th>\n",
       "      <td>7999.0</td>\n",
       "      <td>103050.0</td>\n",
       "      <td>2016.0</td>\n",
       "      <td>3.0</td>\n",
       "      <td>5.0</td>\n",
       "      <td>5.0</td>\n",
       "    </tr>\n",
       "    <tr>\n",
       "      <th>max</th>\n",
       "      <td>33900.0</td>\n",
       "      <td>1110100.0</td>\n",
       "      <td>2023.0</td>\n",
       "      <td>9.0</td>\n",
       "      <td>5.0</td>\n",
       "      <td>7.0</td>\n",
       "    </tr>\n",
       "  </tbody>\n",
       "</table>\n",
       "</div>"
      ],
      "text/plain": [
       "         price  mileage_miles  registration_year  previous_owners   doors  \\\n",
       "count   3591.0         3591.0             3591.0           3591.0  3591.0   \n",
       "mean    5792.0        81511.0             2012.0              2.0     4.0   \n",
       "std     4515.0        39545.0                5.0              2.0     1.0   \n",
       "min      400.0            1.0             1993.0              0.0     2.0   \n",
       "25%     2490.0        56984.0             2008.0              0.0     3.0   \n",
       "50%     3999.0        80000.0             2012.0              1.0     5.0   \n",
       "75%     7999.0       103050.0             2016.0              3.0     5.0   \n",
       "max    33900.0      1110100.0             2023.0              9.0     5.0   \n",
       "\n",
       "        seats  \n",
       "count  3591.0  \n",
       "mean      5.0  \n",
       "std       1.0  \n",
       "min       2.0  \n",
       "25%       5.0  \n",
       "50%       5.0  \n",
       "75%       5.0  \n",
       "max       7.0  "
      ]
     },
     "execution_count": 389,
     "metadata": {},
     "output_type": "execute_result"
    }
   ],
   "source": [
    "df.describe().round()"
   ]
  },
  {
   "cell_type": "code",
   "execution_count": 390,
   "id": "51784bac",
   "metadata": {},
   "outputs": [
    {
     "data": {
      "text/html": [
       "<div>\n",
       "<style scoped>\n",
       "    .dataframe tbody tr th:only-of-type {\n",
       "        vertical-align: middle;\n",
       "    }\n",
       "\n",
       "    .dataframe tbody tr th {\n",
       "        vertical-align: top;\n",
       "    }\n",
       "\n",
       "    .dataframe thead th {\n",
       "        text-align: right;\n",
       "    }\n",
       "</style>\n",
       "<table border=\"1\" class=\"dataframe\">\n",
       "  <thead>\n",
       "    <tr style=\"text-align: right;\">\n",
       "      <th></th>\n",
       "      <th>price</th>\n",
       "      <th>mileage_miles</th>\n",
       "      <th>registration_year</th>\n",
       "      <th>previous_owners</th>\n",
       "      <th>fuel_type</th>\n",
       "      <th>body_type</th>\n",
       "      <th>engine</th>\n",
       "      <th>gearbox</th>\n",
       "      <th>doors</th>\n",
       "      <th>seats</th>\n",
       "      <th>emission_class</th>\n",
       "      <th>service_history</th>\n",
       "    </tr>\n",
       "  </thead>\n",
       "  <tbody>\n",
       "    <tr>\n",
       "      <th>242</th>\n",
       "      <td>2600</td>\n",
       "      <td>234680</td>\n",
       "      <td>2011</td>\n",
       "      <td>1.0</td>\n",
       "      <td>Diesel</td>\n",
       "      <td>Estate</td>\n",
       "      <td>2.0L</td>\n",
       "      <td>Manual</td>\n",
       "      <td>5.0</td>\n",
       "      <td>5.0</td>\n",
       "      <td>Euro 5</td>\n",
       "      <td>unk</td>\n",
       "    </tr>\n",
       "    <tr>\n",
       "      <th>1035</th>\n",
       "      <td>2495</td>\n",
       "      <td>1110100</td>\n",
       "      <td>2003</td>\n",
       "      <td>4.0</td>\n",
       "      <td>Petrol</td>\n",
       "      <td>Hatchback</td>\n",
       "      <td>2.0L</td>\n",
       "      <td>Automatic</td>\n",
       "      <td>3.0</td>\n",
       "      <td>4.0</td>\n",
       "      <td>Euro 4</td>\n",
       "      <td>unk</td>\n",
       "    </tr>\n",
       "    <tr>\n",
       "      <th>1257</th>\n",
       "      <td>795</td>\n",
       "      <td>274100</td>\n",
       "      <td>2004</td>\n",
       "      <td>6.0</td>\n",
       "      <td>Petrol</td>\n",
       "      <td>Estate</td>\n",
       "      <td>2.4L</td>\n",
       "      <td>Automatic</td>\n",
       "      <td>5.0</td>\n",
       "      <td>5.0</td>\n",
       "      <td>Euro 3</td>\n",
       "      <td>unk</td>\n",
       "    </tr>\n",
       "    <tr>\n",
       "      <th>1281</th>\n",
       "      <td>795</td>\n",
       "      <td>274100</td>\n",
       "      <td>2004</td>\n",
       "      <td>6.0</td>\n",
       "      <td>Petrol</td>\n",
       "      <td>Estate</td>\n",
       "      <td>2.4L</td>\n",
       "      <td>Automatic</td>\n",
       "      <td>5.0</td>\n",
       "      <td>5.0</td>\n",
       "      <td>Euro 3</td>\n",
       "      <td>unk</td>\n",
       "    </tr>\n",
       "    <tr>\n",
       "      <th>1457</th>\n",
       "      <td>4769</td>\n",
       "      <td>207734</td>\n",
       "      <td>2012</td>\n",
       "      <td>0.0</td>\n",
       "      <td>Diesel</td>\n",
       "      <td>Saloon</td>\n",
       "      <td>3.0L</td>\n",
       "      <td>Automatic</td>\n",
       "      <td>4.0</td>\n",
       "      <td>5.0</td>\n",
       "      <td>Euro 6</td>\n",
       "      <td>unk</td>\n",
       "    </tr>\n",
       "    <tr>\n",
       "      <th>1476</th>\n",
       "      <td>795</td>\n",
       "      <td>274100</td>\n",
       "      <td>2004</td>\n",
       "      <td>6.0</td>\n",
       "      <td>Petrol</td>\n",
       "      <td>Estate</td>\n",
       "      <td>2.4L</td>\n",
       "      <td>Automatic</td>\n",
       "      <td>5.0</td>\n",
       "      <td>5.0</td>\n",
       "      <td>Euro 3</td>\n",
       "      <td>unk</td>\n",
       "    </tr>\n",
       "    <tr>\n",
       "      <th>1683</th>\n",
       "      <td>795</td>\n",
       "      <td>274100</td>\n",
       "      <td>2004</td>\n",
       "      <td>6.0</td>\n",
       "      <td>Petrol</td>\n",
       "      <td>Estate</td>\n",
       "      <td>2.4L</td>\n",
       "      <td>Automatic</td>\n",
       "      <td>5.0</td>\n",
       "      <td>5.0</td>\n",
       "      <td>Euro 3</td>\n",
       "      <td>unk</td>\n",
       "    </tr>\n",
       "    <tr>\n",
       "      <th>1931</th>\n",
       "      <td>795</td>\n",
       "      <td>274100</td>\n",
       "      <td>2004</td>\n",
       "      <td>6.0</td>\n",
       "      <td>Petrol</td>\n",
       "      <td>Estate</td>\n",
       "      <td>2.4L</td>\n",
       "      <td>Automatic</td>\n",
       "      <td>5.0</td>\n",
       "      <td>5.0</td>\n",
       "      <td>Euro 3</td>\n",
       "      <td>unk</td>\n",
       "    </tr>\n",
       "    <tr>\n",
       "      <th>1944</th>\n",
       "      <td>795</td>\n",
       "      <td>274100</td>\n",
       "      <td>2004</td>\n",
       "      <td>6.0</td>\n",
       "      <td>Petrol</td>\n",
       "      <td>Estate</td>\n",
       "      <td>2.4L</td>\n",
       "      <td>Automatic</td>\n",
       "      <td>5.0</td>\n",
       "      <td>5.0</td>\n",
       "      <td>Euro 3</td>\n",
       "      <td>unk</td>\n",
       "    </tr>\n",
       "    <tr>\n",
       "      <th>2046</th>\n",
       "      <td>795</td>\n",
       "      <td>274100</td>\n",
       "      <td>2004</td>\n",
       "      <td>6.0</td>\n",
       "      <td>Petrol</td>\n",
       "      <td>Estate</td>\n",
       "      <td>2.4L</td>\n",
       "      <td>Automatic</td>\n",
       "      <td>5.0</td>\n",
       "      <td>5.0</td>\n",
       "      <td>Euro 3</td>\n",
       "      <td>unk</td>\n",
       "    </tr>\n",
       "    <tr>\n",
       "      <th>3568</th>\n",
       "      <td>1995</td>\n",
       "      <td>208000</td>\n",
       "      <td>2009</td>\n",
       "      <td>4.0</td>\n",
       "      <td>Diesel</td>\n",
       "      <td>Coupe</td>\n",
       "      <td>3.0L</td>\n",
       "      <td>Automatic</td>\n",
       "      <td>2.0</td>\n",
       "      <td>4.0</td>\n",
       "      <td>Euro 4</td>\n",
       "      <td>unk</td>\n",
       "    </tr>\n",
       "  </tbody>\n",
       "</table>\n",
       "</div>"
      ],
      "text/plain": [
       "      price  mileage_miles  registration_year  previous_owners fuel_type  \\\n",
       "242    2600         234680               2011              1.0    Diesel   \n",
       "1035   2495        1110100               2003              4.0    Petrol   \n",
       "1257    795         274100               2004              6.0    Petrol   \n",
       "1281    795         274100               2004              6.0    Petrol   \n",
       "1457   4769         207734               2012              0.0    Diesel   \n",
       "1476    795         274100               2004              6.0    Petrol   \n",
       "1683    795         274100               2004              6.0    Petrol   \n",
       "1931    795         274100               2004              6.0    Petrol   \n",
       "1944    795         274100               2004              6.0    Petrol   \n",
       "2046    795         274100               2004              6.0    Petrol   \n",
       "3568   1995         208000               2009              4.0    Diesel   \n",
       "\n",
       "      body_type engine    gearbox  doors  seats emission_class service_history  \n",
       "242      Estate   2.0L     Manual    5.0    5.0         Euro 5             unk  \n",
       "1035  Hatchback   2.0L  Automatic    3.0    4.0         Euro 4             unk  \n",
       "1257     Estate   2.4L  Automatic    5.0    5.0         Euro 3             unk  \n",
       "1281     Estate   2.4L  Automatic    5.0    5.0         Euro 3             unk  \n",
       "1457     Saloon   3.0L  Automatic    4.0    5.0         Euro 6             unk  \n",
       "1476     Estate   2.4L  Automatic    5.0    5.0         Euro 3             unk  \n",
       "1683     Estate   2.4L  Automatic    5.0    5.0         Euro 3             unk  \n",
       "1931     Estate   2.4L  Automatic    5.0    5.0         Euro 3             unk  \n",
       "1944     Estate   2.4L  Automatic    5.0    5.0         Euro 3             unk  \n",
       "2046     Estate   2.4L  Automatic    5.0    5.0         Euro 3             unk  \n",
       "3568      Coupe   3.0L  Automatic    2.0    4.0         Euro 4             unk  "
      ]
     },
     "execution_count": 390,
     "metadata": {},
     "output_type": "execute_result"
    }
   ],
   "source": [
    "df[df.mileage_miles > 200000]"
   ]
  },
  {
   "cell_type": "markdown",
   "id": "9d404425",
   "metadata": {},
   "source": [
    "**Check mileage for outliers**"
   ]
  },
  {
   "cell_type": "code",
   "execution_count": 391,
   "id": "5e454f65",
   "metadata": {},
   "outputs": [
    {
     "data": {
      "text/plain": [
       "<Axes: xlabel='mileage_miles', ylabel='Count'>"
      ]
     },
     "execution_count": 391,
     "metadata": {},
     "output_type": "execute_result"
    },
    {
     "data": {
      "image/png": "[encoded data removed]",
      "text/plain": [
       "<Figure size 640x480 with 1 Axes>"
      ]
     },
     "metadata": {},
     "output_type": "display_data"
    }
   ],
   "source": [
    "sns.histplot(df.mileage_miles, bins=50)"
   ]
  },
  {
   "cell_type": "code",
   "execution_count": 392,
   "id": "67c3dc6e",
   "metadata": {},
   "outputs": [],
   "source": [
    "# remove cars with mileage >300,000 as these are probably data issues\n",
    "df = df[df.mileage_miles < 300000]"
   ]
  },
  {
   "cell_type": "code",
   "execution_count": 393,
   "id": "e3b2a576",
   "metadata": {},
   "outputs": [
    {
     "data": {
      "text/plain": [
       "<Axes: xlabel='mileage_miles', ylabel='Count'>"
      ]
     },
     "execution_count": 393,
     "metadata": {},
     "output_type": "execute_result"
    },
    {
     "data": {
      "image/png": "[encoded data removed]",
      "text/plain": [
       "<Figure size 640x480 with 1 Axes>"
      ]
     },
     "metadata": {},
     "output_type": "display_data"
    }
   ],
   "source": [
    "sns.histplot(df.mileage_miles, bins=50)"
   ]
  },
  {
   "cell_type": "code",
   "execution_count": 394,
   "id": "e6ffa282",
   "metadata": {},
   "outputs": [
    {
     "data": {
      "text/plain": [
       "<Axes: xlabel='price', ylabel='Count'>"
      ]
     },
     "execution_count": 394,
     "metadata": {},
     "output_type": "execute_result"
    },
    {
     "data": {
      "image/png": "[encoded data removed]",
      "text/plain": [
       "<Figure size 640x480 with 1 Axes>"
      ]
     },
     "metadata": {},
     "output_type": "display_data"
    }
   ],
   "source": [
    "sns.histplot(df.price, bins=50)"
   ]
  },
  {
   "cell_type": "code",
   "execution_count": 395,
   "id": "b9c10234",
   "metadata": {},
   "outputs": [],
   "source": [
    "# find all columns that have strings\n",
    "categorical = list(df.dtypes[df.dtypes == 'object'].index)\n",
    "numerical = list(df.dtypes[df.dtypes != 'object'].index)\n",
    "numerical.remove('price')\n",
    "\n",
    "# replace blanks with '_' in columns that have strings\n",
    "for col in categorical:\n",
    "    df[col] = df[col].str.lower().str.replace(' ', '_')"
   ]
  },
  {
   "cell_type": "code",
   "execution_count": 396,
   "id": "f589fc0a",
   "metadata": {},
   "outputs": [
    {
     "data": {
      "text/html": [
       "<div>\n",
       "<style scoped>\n",
       "    .dataframe tbody tr th:only-of-type {\n",
       "        vertical-align: middle;\n",
       "    }\n",
       "\n",
       "    .dataframe tbody tr th {\n",
       "        vertical-align: top;\n",
       "    }\n",
       "\n",
       "    .dataframe thead th {\n",
       "        text-align: right;\n",
       "    }\n",
       "</style>\n",
       "<table border=\"1\" class=\"dataframe\">\n",
       "  <thead>\n",
       "    <tr style=\"text-align: right;\">\n",
       "      <th></th>\n",
       "      <th>price</th>\n",
       "      <th>mileage_miles</th>\n",
       "      <th>previous_owners</th>\n",
       "      <th>fuel_type</th>\n",
       "      <th>body_type</th>\n",
       "      <th>engine</th>\n",
       "      <th>gearbox</th>\n",
       "      <th>doors</th>\n",
       "      <th>seats</th>\n",
       "      <th>emission_class</th>\n",
       "      <th>service_history</th>\n",
       "      <th>age</th>\n",
       "    </tr>\n",
       "  </thead>\n",
       "  <tbody>\n",
       "    <tr>\n",
       "      <th>0</th>\n",
       "      <td>6900</td>\n",
       "      <td>70189</td>\n",
       "      <td>3.0</td>\n",
       "      <td>diesel</td>\n",
       "      <td>hatchback</td>\n",
       "      <td>1.4l</td>\n",
       "      <td>manual</td>\n",
       "      <td>5.0</td>\n",
       "      <td>5.0</td>\n",
       "      <td>euro_6</td>\n",
       "      <td>unk</td>\n",
       "      <td>7</td>\n",
       "    </tr>\n",
       "    <tr>\n",
       "      <th>1</th>\n",
       "      <td>1495</td>\n",
       "      <td>88585</td>\n",
       "      <td>4.0</td>\n",
       "      <td>petrol</td>\n",
       "      <td>hatchback</td>\n",
       "      <td>1.2l</td>\n",
       "      <td>manual</td>\n",
       "      <td>3.0</td>\n",
       "      <td>5.0</td>\n",
       "      <td>euro_4</td>\n",
       "      <td>full</td>\n",
       "      <td>15</td>\n",
       "    </tr>\n",
       "    <tr>\n",
       "      <th>2</th>\n",
       "      <td>949</td>\n",
       "      <td>137000</td>\n",
       "      <td>0.0</td>\n",
       "      <td>petrol</td>\n",
       "      <td>hatchback</td>\n",
       "      <td>1.4l</td>\n",
       "      <td>manual</td>\n",
       "      <td>5.0</td>\n",
       "      <td>5.0</td>\n",
       "      <td>euro_5</td>\n",
       "      <td>unk</td>\n",
       "      <td>12</td>\n",
       "    </tr>\n",
       "    <tr>\n",
       "      <th>3</th>\n",
       "      <td>2395</td>\n",
       "      <td>96731</td>\n",
       "      <td>5.0</td>\n",
       "      <td>petrol</td>\n",
       "      <td>hatchback</td>\n",
       "      <td>1.4l</td>\n",
       "      <td>manual</td>\n",
       "      <td>3.0</td>\n",
       "      <td>4.0</td>\n",
       "      <td>euro_4</td>\n",
       "      <td>full</td>\n",
       "      <td>13</td>\n",
       "    </tr>\n",
       "    <tr>\n",
       "      <th>4</th>\n",
       "      <td>1000</td>\n",
       "      <td>85000</td>\n",
       "      <td>0.0</td>\n",
       "      <td>diesel</td>\n",
       "      <td>hatchback</td>\n",
       "      <td>1.3l</td>\n",
       "      <td>manual</td>\n",
       "      <td>5.0</td>\n",
       "      <td>5.0</td>\n",
       "      <td>euro_5</td>\n",
       "      <td>unk</td>\n",
       "      <td>10</td>\n",
       "    </tr>\n",
       "  </tbody>\n",
       "</table>\n",
       "</div>"
      ],
      "text/plain": [
       "   price  mileage_miles  previous_owners fuel_type  body_type engine gearbox  \\\n",
       "0   6900          70189              3.0    diesel  hatchback   1.4l  manual   \n",
       "1   1495          88585              4.0    petrol  hatchback   1.2l  manual   \n",
       "2    949         137000              0.0    petrol  hatchback   1.4l  manual   \n",
       "3   2395          96731              5.0    petrol  hatchback   1.4l  manual   \n",
       "4   1000          85000              0.0    diesel  hatchback   1.3l  manual   \n",
       "\n",
       "   doors  seats emission_class service_history  age  \n",
       "0    5.0    5.0         euro_6             unk    7  \n",
       "1    3.0    5.0         euro_4            full   15  \n",
       "2    5.0    5.0         euro_5             unk   12  \n",
       "3    3.0    4.0         euro_4            full   13  \n",
       "4    5.0    5.0         euro_5             unk   10  "
      ]
     },
     "execution_count": 396,
     "metadata": {},
     "output_type": "execute_result"
    }
   ],
   "source": [
    "# add age and remove registration_year\n",
    "df['age'] = 2023 - df['registration_year']\n",
    "df = df.drop(columns=['registration_year'])\n",
    "numerical.remove('registration_year')\n",
    "numerical.append('age')\n",
    "df.head()"
   ]
  },
  {
   "cell_type": "code",
   "execution_count": 397,
   "id": "eaf4bf9d",
   "metadata": {},
   "outputs": [
    {
     "data": {
      "text/html": [
       "<div>\n",
       "<style scoped>\n",
       "    .dataframe tbody tr th:only-of-type {\n",
       "        vertical-align: middle;\n",
       "    }\n",
       "\n",
       "    .dataframe tbody tr th {\n",
       "        vertical-align: top;\n",
       "    }\n",
       "\n",
       "    .dataframe thead th {\n",
       "        text-align: right;\n",
       "    }\n",
       "</style>\n",
       "<table border=\"1\" class=\"dataframe\">\n",
       "  <thead>\n",
       "    <tr style=\"text-align: right;\">\n",
       "      <th></th>\n",
       "      <th>mileage_miles</th>\n",
       "      <th>previous_owners</th>\n",
       "      <th>fuel_type</th>\n",
       "      <th>body_type</th>\n",
       "      <th>engine</th>\n",
       "      <th>gearbox</th>\n",
       "      <th>doors</th>\n",
       "      <th>seats</th>\n",
       "      <th>emission_class</th>\n",
       "      <th>service_history</th>\n",
       "      <th>age</th>\n",
       "      <th>price</th>\n",
       "    </tr>\n",
       "  </thead>\n",
       "  <tbody>\n",
       "    <tr>\n",
       "      <th>0</th>\n",
       "      <td>70189</td>\n",
       "      <td>3.0</td>\n",
       "      <td>diesel</td>\n",
       "      <td>hatchback</td>\n",
       "      <td>1.4l</td>\n",
       "      <td>manual</td>\n",
       "      <td>5.0</td>\n",
       "      <td>5.0</td>\n",
       "      <td>euro_6</td>\n",
       "      <td>unk</td>\n",
       "      <td>7</td>\n",
       "      <td>6900</td>\n",
       "    </tr>\n",
       "    <tr>\n",
       "      <th>1</th>\n",
       "      <td>88585</td>\n",
       "      <td>4.0</td>\n",
       "      <td>petrol</td>\n",
       "      <td>hatchback</td>\n",
       "      <td>1.2l</td>\n",
       "      <td>manual</td>\n",
       "      <td>3.0</td>\n",
       "      <td>5.0</td>\n",
       "      <td>euro_4</td>\n",
       "      <td>full</td>\n",
       "      <td>15</td>\n",
       "      <td>1495</td>\n",
       "    </tr>\n",
       "    <tr>\n",
       "      <th>2</th>\n",
       "      <td>137000</td>\n",
       "      <td>0.0</td>\n",
       "      <td>petrol</td>\n",
       "      <td>hatchback</td>\n",
       "      <td>1.4l</td>\n",
       "      <td>manual</td>\n",
       "      <td>5.0</td>\n",
       "      <td>5.0</td>\n",
       "      <td>euro_5</td>\n",
       "      <td>unk</td>\n",
       "      <td>12</td>\n",
       "      <td>949</td>\n",
       "    </tr>\n",
       "    <tr>\n",
       "      <th>3</th>\n",
       "      <td>96731</td>\n",
       "      <td>5.0</td>\n",
       "      <td>petrol</td>\n",
       "      <td>hatchback</td>\n",
       "      <td>1.4l</td>\n",
       "      <td>manual</td>\n",
       "      <td>3.0</td>\n",
       "      <td>4.0</td>\n",
       "      <td>euro_4</td>\n",
       "      <td>full</td>\n",
       "      <td>13</td>\n",
       "      <td>2395</td>\n",
       "    </tr>\n",
       "    <tr>\n",
       "      <th>4</th>\n",
       "      <td>85000</td>\n",
       "      <td>0.0</td>\n",
       "      <td>diesel</td>\n",
       "      <td>hatchback</td>\n",
       "      <td>1.3l</td>\n",
       "      <td>manual</td>\n",
       "      <td>5.0</td>\n",
       "      <td>5.0</td>\n",
       "      <td>euro_5</td>\n",
       "      <td>unk</td>\n",
       "      <td>10</td>\n",
       "      <td>1000</td>\n",
       "    </tr>\n",
       "  </tbody>\n",
       "</table>\n",
       "</div>"
      ],
      "text/plain": [
       "   mileage_miles  previous_owners fuel_type  body_type engine gearbox  doors  \\\n",
       "0          70189              3.0    diesel  hatchback   1.4l  manual    5.0   \n",
       "1          88585              4.0    petrol  hatchback   1.2l  manual    3.0   \n",
       "2         137000              0.0    petrol  hatchback   1.4l  manual    5.0   \n",
       "3          96731              5.0    petrol  hatchback   1.4l  manual    3.0   \n",
       "4          85000              0.0    diesel  hatchback   1.3l  manual    5.0   \n",
       "\n",
       "   seats emission_class service_history  age  price  \n",
       "0    5.0         euro_6             unk    7   6900  \n",
       "1    5.0         euro_4            full   15   1495  \n",
       "2    5.0         euro_5             unk   12    949  \n",
       "3    4.0         euro_4            full   13   2395  \n",
       "4    5.0         euro_5             unk   10   1000  "
      ]
     },
     "execution_count": 397,
     "metadata": {},
     "output_type": "execute_result"
    }
   ],
   "source": [
    "# move price column to end of dataframe\n",
    "df = df[[col for col in df if col != 'price'] + ['price']]\n",
    "df.head()"
   ]
  },
  {
   "cell_type": "code",
   "execution_count": 398,
   "id": "945c9886",
   "metadata": {},
   "outputs": [
    {
     "data": {
      "text/html": [
       "<div>\n",
       "<style scoped>\n",
       "    .dataframe tbody tr th:only-of-type {\n",
       "        vertical-align: middle;\n",
       "    }\n",
       "\n",
       "    .dataframe tbody tr th {\n",
       "        vertical-align: top;\n",
       "    }\n",
       "\n",
       "    .dataframe thead th {\n",
       "        text-align: right;\n",
       "    }\n",
       "</style>\n",
       "<table border=\"1\" class=\"dataframe\">\n",
       "  <thead>\n",
       "    <tr style=\"text-align: right;\">\n",
       "      <th></th>\n",
       "      <th>mileage_miles</th>\n",
       "      <th>previous_owners</th>\n",
       "      <th>fuel_type</th>\n",
       "      <th>body_type</th>\n",
       "      <th>engine</th>\n",
       "      <th>gearbox</th>\n",
       "      <th>doors</th>\n",
       "      <th>seats</th>\n",
       "      <th>emission_class</th>\n",
       "      <th>service_history</th>\n",
       "      <th>age</th>\n",
       "      <th>price</th>\n",
       "    </tr>\n",
       "  </thead>\n",
       "  <tbody>\n",
       "    <tr>\n",
       "      <th>0</th>\n",
       "      <td>70189</td>\n",
       "      <td>3.0</td>\n",
       "      <td>diesel</td>\n",
       "      <td>hatchback</td>\n",
       "      <td>1.4l</td>\n",
       "      <td>manual</td>\n",
       "      <td>5.0</td>\n",
       "      <td>5.0</td>\n",
       "      <td>euro_6</td>\n",
       "      <td>unk</td>\n",
       "      <td>7</td>\n",
       "      <td>6900</td>\n",
       "    </tr>\n",
       "    <tr>\n",
       "      <th>1</th>\n",
       "      <td>88585</td>\n",
       "      <td>4.0</td>\n",
       "      <td>petrol</td>\n",
       "      <td>hatchback</td>\n",
       "      <td>1.2l</td>\n",
       "      <td>manual</td>\n",
       "      <td>3.0</td>\n",
       "      <td>5.0</td>\n",
       "      <td>euro_4</td>\n",
       "      <td>full</td>\n",
       "      <td>15</td>\n",
       "      <td>1495</td>\n",
       "    </tr>\n",
       "    <tr>\n",
       "      <th>2</th>\n",
       "      <td>137000</td>\n",
       "      <td>0.0</td>\n",
       "      <td>petrol</td>\n",
       "      <td>hatchback</td>\n",
       "      <td>1.4l</td>\n",
       "      <td>manual</td>\n",
       "      <td>5.0</td>\n",
       "      <td>5.0</td>\n",
       "      <td>euro_5</td>\n",
       "      <td>unk</td>\n",
       "      <td>12</td>\n",
       "      <td>949</td>\n",
       "    </tr>\n",
       "    <tr>\n",
       "      <th>3</th>\n",
       "      <td>96731</td>\n",
       "      <td>5.0</td>\n",
       "      <td>petrol</td>\n",
       "      <td>hatchback</td>\n",
       "      <td>1.4l</td>\n",
       "      <td>manual</td>\n",
       "      <td>3.0</td>\n",
       "      <td>4.0</td>\n",
       "      <td>euro_4</td>\n",
       "      <td>full</td>\n",
       "      <td>13</td>\n",
       "      <td>2395</td>\n",
       "    </tr>\n",
       "    <tr>\n",
       "      <th>4</th>\n",
       "      <td>85000</td>\n",
       "      <td>0.0</td>\n",
       "      <td>diesel</td>\n",
       "      <td>hatchback</td>\n",
       "      <td>1.3l</td>\n",
       "      <td>manual</td>\n",
       "      <td>5.0</td>\n",
       "      <td>5.0</td>\n",
       "      <td>euro_5</td>\n",
       "      <td>unk</td>\n",
       "      <td>10</td>\n",
       "      <td>1000</td>\n",
       "    </tr>\n",
       "  </tbody>\n",
       "</table>\n",
       "</div>"
      ],
      "text/plain": [
       "   mileage_miles  previous_owners fuel_type  body_type engine gearbox  doors  \\\n",
       "0          70189              3.0    diesel  hatchback   1.4l  manual    5.0   \n",
       "1          88585              4.0    petrol  hatchback   1.2l  manual    3.0   \n",
       "2         137000              0.0    petrol  hatchback   1.4l  manual    5.0   \n",
       "3          96731              5.0    petrol  hatchback   1.4l  manual    3.0   \n",
       "4          85000              0.0    diesel  hatchback   1.3l  manual    5.0   \n",
       "\n",
       "   seats emission_class service_history  age  price  \n",
       "0    5.0         euro_6             unk    7   6900  \n",
       "1    5.0         euro_4            full   15   1495  \n",
       "2    5.0         euro_5             unk   12    949  \n",
       "3    4.0         euro_4            full   13   2395  \n",
       "4    5.0         euro_5             unk   10   1000  "
      ]
     },
     "execution_count": 398,
     "metadata": {},
     "output_type": "execute_result"
    }
   ],
   "source": [
    "# make back-up copy of dataframe\n",
    "df_bak = df.copy()\n",
    "df_bak.head()"
   ]
  },
  {
   "cell_type": "markdown",
   "id": "072372af",
   "metadata": {},
   "source": [
    "## Exploratory Data Analysis ##"
   ]
  },
  {
   "cell_type": "markdown",
   "id": "5675168d",
   "metadata": {},
   "source": [
    "Used Car Prices in UK Dataset is a comprehensive collection of automotive information extracted from the popular automotive marketplace website, autotrader.co.uk. This dataset comprises 3,685 data points, each representing a unique vehicle listing, and includes thirteen distinct features providing valuable insights into the world of automobiles. \n",
    "\n",
    "The feature names are:\n",
    "- title\n",
    "- Price : price of car in pounds\n",
    "- Mileage(miles)\n",
    "- Registration(year)\n",
    "- Previous Owners\n",
    "- Fuel Type\n",
    "- Body Type\n",
    "- Engine\n",
    "- Gearbox\n",
    "- Seats\n",
    "- Doors\n",
    "- Emission Class\n",
    "- Service history"
   ]
  },
  {
   "cell_type": "code",
   "execution_count": 399,
   "id": "a663e01c",
   "metadata": {},
   "outputs": [
    {
     "name": "stdout",
     "output_type": "stream",
     "text": [
      "mileage_miles\n",
      "[ 70189  88585 137000  96731  85000]\n",
      "1537\n",
      "\n",
      "previous_owners\n",
      "[3. 4. 0. 5. 1.]\n",
      "10\n",
      "\n",
      "fuel_type\n",
      "['diesel' 'petrol' 'petrol_plug-in_hybrid' 'petrol_hybrid' 'diesel_hybrid']\n",
      "5\n",
      "\n",
      "body_type\n",
      "['hatchback' 'coupe' 'saloon' 'convertible' 'estate']\n",
      "9\n",
      "\n",
      "engine\n",
      "['1.4l' '1.2l' '1.3l' '2.0l' '1.6l']\n",
      "34\n",
      "\n",
      "gearbox\n",
      "['manual' 'automatic']\n",
      "2\n",
      "\n",
      "doors\n",
      "[5. 3. 4. 2.]\n",
      "4\n",
      "\n",
      "seats\n",
      "[5. 4. 2. 7. 3.]\n",
      "6\n",
      "\n",
      "emission_class\n",
      "['euro_6' 'euro_4' 'euro_5' 'euro_3' 'euro_2']\n",
      "6\n",
      "\n",
      "service_history\n",
      "['unk' 'full']\n",
      "2\n",
      "\n",
      "age\n",
      "[ 7 15 12 13 10]\n",
      "28\n",
      "\n",
      "price\n",
      "[6900 1495  949 2395 1000]\n",
      "861\n",
      "\n"
     ]
    }
   ],
   "source": [
    "# find unique values and show first 5\n",
    "for col in df.columns:\n",
    "    print(col)\n",
    "    print(df[col].unique()[:5])\n",
    "    print(df[col].nunique())\n",
    "    print()\n"
   ]
  },
  {
   "cell_type": "markdown",
   "id": "1e758086",
   "metadata": {},
   "source": [
    "### Feature Importance ###"
   ]
  },
  {
   "cell_type": "code",
   "execution_count": 400,
   "id": "edf6e47a",
   "metadata": {},
   "outputs": [
    {
     "data": {
      "text/plain": [
       "['mileage_miles', 'previous_owners', 'doors', 'seats', 'age']"
      ]
     },
     "execution_count": 400,
     "metadata": {},
     "output_type": "execute_result"
    }
   ],
   "source": [
    "numerical"
   ]
  },
  {
   "cell_type": "code",
   "execution_count": 401,
   "id": "fb3b6d99",
   "metadata": {},
   "outputs": [],
   "source": [
    "def mutual_info_price_score(series):\n",
    "    return mutual_info_score(series, df.price)"
   ]
  },
  {
   "cell_type": "code",
   "execution_count": 402,
   "id": "65365eca",
   "metadata": {},
   "outputs": [
    {
     "data": {
      "text/plain": [
       "engine             1.261823\n",
       "emission_class     0.767222\n",
       "body_type          0.649060\n",
       "fuel_type          0.352529\n",
       "gearbox            0.220557\n",
       "service_history    0.192319\n",
       "dtype: float64"
      ]
     },
     "execution_count": 402,
     "metadata": {},
     "output_type": "execute_result"
    }
   ],
   "source": [
    "mi = df[categorical].apply(mutual_info_price_score)\n",
    "mi.sort_values(ascending=False)"
   ]
  },
  {
   "cell_type": "code",
   "execution_count": 403,
   "id": "c0c09b79",
   "metadata": {},
   "outputs": [
    {
     "data": {
      "text/plain": [
       "['mileage_miles', 'previous_owners', 'doors', 'seats', 'age']"
      ]
     },
     "execution_count": 403,
     "metadata": {},
     "output_type": "execute_result"
    }
   ],
   "source": [
    "numerical"
   ]
  },
  {
   "cell_type": "code",
   "execution_count": 404,
   "id": "dde235ef",
   "metadata": {},
   "outputs": [
    {
     "data": {
      "text/plain": [
       "mileage_miles      0.552908\n",
       "previous_owners    0.228897\n",
       "doors              0.113371\n",
       "seats              0.025281\n",
       "age                0.785983\n",
       "dtype: float64"
      ]
     },
     "execution_count": 404,
     "metadata": {},
     "output_type": "execute_result"
    }
   ],
   "source": [
    "\n",
    "df[numerical].corrwith(df.price).abs()"
   ]
  },
  {
   "cell_type": "markdown",
   "id": "e65b6d36",
   "metadata": {},
   "source": [
    "### Split data ###"
   ]
  },
  {
   "cell_type": "code",
   "execution_count": 405,
   "id": "a34c339f",
   "metadata": {},
   "outputs": [],
   "source": [
    "# split data into train/validation/test split with 60%/20%/20% distribution\n",
    "df_full_train, df_test = train_test_split(df, test_size=0.2, random_state=1)\n",
    "df_train, df_val = train_test_split(df_full_train, test_size=0.25, random_state=1)"
   ]
  },
  {
   "cell_type": "code",
   "execution_count": 406,
   "id": "e3f6d3d3",
   "metadata": {},
   "outputs": [],
   "source": [
    "# reset indeces\n",
    "df_train = df_train.reset_index(drop=True)\n",
    "df_val = df_val.reset_index(drop=True)\n",
    "df_test = df_test.reset_index(drop=True)"
   ]
  },
  {
   "cell_type": "code",
   "execution_count": 407,
   "id": "924da7b8",
   "metadata": {},
   "outputs": [],
   "source": [
    "# set target value\n",
    "y_train = df_train.price\n",
    "y_val = df_val.price\n",
    "y_test = df_test.price"
   ]
  },
  {
   "cell_type": "code",
   "execution_count": 408,
   "id": "791765e0",
   "metadata": {},
   "outputs": [],
   "source": [
    "del df_train['price']\n",
    "del df_val['price']\n",
    "del df_test['price']"
   ]
  },
  {
   "cell_type": "code",
   "execution_count": 409,
   "id": "55a7313c",
   "metadata": {},
   "outputs": [
    {
     "name": "stdout",
     "output_type": "stream",
     "text": [
      "df_train:  (2154, 11)\n",
      "df_val:  (718, 11)\n",
      "df_test:  (718, 11)\n"
     ]
    }
   ],
   "source": [
    "print('df_train: ', df_train.shape)\n",
    "print('df_val: ', df_val.shape)\n",
    "print('df_test: ', df_test.shape)"
   ]
  },
  {
   "cell_type": "code",
   "execution_count": 410,
   "id": "e0520786",
   "metadata": {},
   "outputs": [],
   "source": [
    "# backup dataframes\n",
    "df_train_bak = df_train.copy()\n",
    "df_val_bak = df_val.copy()\n",
    "df_test_bak = df_test.copy()"
   ]
  },
  {
   "cell_type": "markdown",
   "id": "65c45b09",
   "metadata": {},
   "source": [
    "## Train Models ##\n",
    "### 1. Linear Regression Model ##"
   ]
  },
  {
   "cell_type": "code",
   "execution_count": 411,
   "id": "e69e6047",
   "metadata": {},
   "outputs": [],
   "source": [
    "def train(df_train, y_train):\n",
    "    # set-up input for model\n",
    "    train_dict = df_train.to_dict(orient='records')\n",
    "    dv = DictVectorizer(sparse=False)\n",
    "    X_train = dv.fit_transform(train_dict)\n",
    "\n",
    "    # create a LinearRegression model\n",
    "    model = LinearRegression(fit_intercept=True, copy_X=True, n_jobs=-1)\n",
    "\n",
    "    # fit the training data\n",
    "    model.fit(X_train, y_train)\n",
    "\n",
    "    return dv, model"
   ]
  },
  {
   "cell_type": "code",
   "execution_count": 412,
   "id": "fe9e8b32",
   "metadata": {},
   "outputs": [],
   "source": [
    "def predict(df, dv, model):\n",
    "    # predict using the validation data\n",
    "    dicts = df.to_dict(orient='records')\n",
    "\n",
    "    X = dv.transform(dicts)\n",
    "    y_pred = model.predict(X)[0]\n",
    "\n",
    "    return y_pred"
   ]
  },
  {
   "cell_type": "code",
   "execution_count": 413,
   "id": "0359008c",
   "metadata": {},
   "outputs": [],
   "source": [
    "dv, model = train(df_train, y_train)\n",
    "y_pred = predict(df_val, dv, model)"
   ]
  },
  {
   "cell_type": "code",
   "execution_count": 414,
   "id": "8bc9a24d",
   "metadata": {},
   "outputs": [
    {
     "data": {
      "text/plain": [
       "4251.231084767594"
      ]
     },
     "execution_count": 414,
     "metadata": {},
     "output_type": "execute_result"
    }
   ],
   "source": [
    "y_pred"
   ]
  },
  {
   "cell_type": "code",
   "execution_count": 415,
   "id": "954a2829",
   "metadata": {},
   "outputs": [],
   "source": [
    "# save linear regression model to pickle file\n",
    "output_file = f'model_reg.bin'\n",
    "with open(output_file, 'wb') as f_out: \n",
    "    pickle.dump((dv, model), f_out)"
   ]
  },
  {
   "cell_type": "code",
   "execution_count": 416,
   "id": "f3367d95",
   "metadata": {},
   "outputs": [],
   "source": [
    "# train model on train and val data\n",
    "dv = DictVectorizer(sparse=False)\n",
    "train_dict = df_train.to_dict(orient='records')\n",
    "X_train = dv.fit_transform(train_dict)\n",
    "\n",
    "val_dict = df_val.to_dict(orient='records')\n",
    "X_val = dv.transform(val_dict)"
   ]
  },
  {
   "cell_type": "code",
   "execution_count": 417,
   "id": "1ad691f0",
   "metadata": {},
   "outputs": [
    {
     "name": "stdout",
     "output_type": "stream",
     "text": [
      "Mean Squared Error on for the Linear Regression model: 3115864.267\n"
     ]
    }
   ],
   "source": [
    "# Create a LinearRegression model\n",
    "model = LinearRegression(fit_intercept=True, copy_X=True, n_jobs=-1)\n",
    "\n",
    "# Fit the model to the training data\n",
    "model.fit(X_train, y_train)\n",
    "\n",
    "# Predict on the validation data\n",
    "y_pred = pd.Series(model.predict(X_val))\n",
    "\n",
    "# Calculate the Mean Squared Error on the validation data\n",
    "linear_mse = mean_squared_error(y_val, y_pred)\n",
    "\n",
    "print(f\"Mean Squared Error on for the Linear Regression model: {linear_mse:.3f}\")"
   ]
  },
  {
   "cell_type": "code",
   "execution_count": 418,
   "id": "49389036",
   "metadata": {},
   "outputs": [
    {
     "name": "stdout",
     "output_type": "stream",
     "text": [
      "Model score: 0.852\n"
     ]
    }
   ],
   "source": [
    "print(f\"Model score: {model.score(X_val, y_val):.3f}\")"
   ]
  },
  {
   "cell_type": "code",
   "execution_count": 419,
   "id": "2f0ca8dc",
   "metadata": {},
   "outputs": [
    {
     "data": {
      "text/plain": [
       "<Axes: xlabel='price', ylabel='Count'>"
      ]
     },
     "execution_count": 419,
     "metadata": {},
     "output_type": "execute_result"
    },
    {
     "data": {
      "image/png": "[encoded data removed]",
      "text/plain": [
       "<Figure size 640x480 with 1 Axes>"
      ]
     },
     "metadata": {},
     "output_type": "display_data"
    }
   ],
   "source": [
    "# graphically compare predicted values to actual values \n",
    "sns.histplot(y_pred, color='red', alpha=0.5, bins=50)\n",
    "sns.histplot(y_train, color='blue', alpha=0.5, bins=50)"
   ]
  },
  {
   "cell_type": "markdown",
   "id": "a2cd8921",
   "metadata": {},
   "source": [
    "### 2. Decision Trees Model ###"
   ]
  },
  {
   "cell_type": "code",
   "execution_count": 420,
   "id": "118fd8df",
   "metadata": {},
   "outputs": [],
   "source": [
    "train_dicts = df_train.fillna(0).to_dict(orient='records')\n",
    "\n",
    "dv = DictVectorizer(sparse=False)\n",
    "X_train = dv.fit_transform(train_dicts)"
   ]
  },
  {
   "cell_type": "code",
   "execution_count": 421,
   "id": "31e9c749",
   "metadata": {},
   "outputs": [
    {
     "data": {
      "text/html": [
       "<style>#sk-container-id-5 {color: black;}#sk-container-id-5 pre{padding: 0;}#sk-container-id-5 div.sk-toggleable {background-color: white;}#sk-container-id-5 label.sk-toggleable__label {cursor: pointer;display: block;width: 100%;margin-bottom: 0;padding: 0.3em;box-sizing: border-box;text-align: center;}#sk-container-id-5 label.sk-toggleable__label-arrow:before {content: \"▸\";float: left;margin-right: 0.25em;color: #696969;}#sk-container-id-5 label.sk-toggleable__label-arrow:hover:before {color: black;}#sk-container-id-5 div.sk-estimator:hover label.sk-toggleable__label-arrow:before {color: black;}#sk-container-id-5 div.sk-toggleable__content {max-height: 0;max-width: 0;overflow: hidden;text-align: left;background-color: #f0f8ff;}#sk-container-id-5 div.sk-toggleable__content pre {margin: 0.2em;color: black;border-radius: 0.25em;background-color: #f0f8ff;}#sk-container-id-5 input.sk-toggleable__control:checked~div.sk-toggleable__content {max-height: 200px;max-width: 100%;overflow: auto;}#sk-container-id-5 input.sk-toggleable__control:checked~label.sk-toggleable__label-arrow:before {content: \"▾\";}#sk-container-id-5 div.sk-estimator input.sk-toggleable__control:checked~label.sk-toggleable__label {background-color: #d4ebff;}#sk-container-id-5 div.sk-label input.sk-toggleable__control:checked~label.sk-toggleable__label {background-color: #d4ebff;}#sk-container-id-5 input.sk-hidden--visually {border: 0;clip: rect(1px 1px 1px 1px);clip: rect(1px, 1px, 1px, 1px);height: 1px;margin: -1px;overflow: hidden;padding: 0;position: absolute;width: 1px;}#sk-container-id-5 div.sk-estimator {font-family: monospace;background-color: #f0f8ff;border: 1px dotted black;border-radius: 0.25em;box-sizing: border-box;margin-bottom: 0.5em;}#sk-container-id-5 div.sk-estimator:hover {background-color: #d4ebff;}#sk-container-id-5 div.sk-parallel-item::after {content: \"\";width: 100%;border-bottom: 1px solid gray;flex-grow: 1;}#sk-container-id-5 div.sk-label:hover label.sk-toggleable__label {background-color: #d4ebff;}#sk-container-id-5 div.sk-serial::before {content: \"\";position: absolute;border-left: 1px solid gray;box-sizing: border-box;top: 0;bottom: 0;left: 50%;z-index: 0;}#sk-container-id-5 div.sk-serial {display: flex;flex-direction: column;align-items: center;background-color: white;padding-right: 0.2em;padding-left: 0.2em;position: relative;}#sk-container-id-5 div.sk-item {position: relative;z-index: 1;}#sk-container-id-5 div.sk-parallel {display: flex;align-items: stretch;justify-content: center;background-color: white;position: relative;}#sk-container-id-5 div.sk-item::before, #sk-container-id-5 div.sk-parallel-item::before {content: \"\";position: absolute;border-left: 1px solid gray;box-sizing: border-box;top: 0;bottom: 0;left: 50%;z-index: -1;}#sk-container-id-5 div.sk-parallel-item {display: flex;flex-direction: column;z-index: 1;position: relative;background-color: white;}#sk-container-id-5 div.sk-parallel-item:first-child::after {align-self: flex-end;width: 50%;}#sk-container-id-5 div.sk-parallel-item:last-child::after {align-self: flex-start;width: 50%;}#sk-container-id-5 div.sk-parallel-item:only-child::after {width: 0;}#sk-container-id-5 div.sk-dashed-wrapped {border: 1px dashed gray;margin: 0 0.4em 0.5em 0.4em;box-sizing: border-box;padding-bottom: 0.4em;background-color: white;}#sk-container-id-5 div.sk-label label {font-family: monospace;font-weight: bold;display: inline-block;line-height: 1.2em;}#sk-container-id-5 div.sk-label-container {text-align: center;}#sk-container-id-5 div.sk-container {/* jupyter's `normalize.less` sets `[hidden] { display: none; }` but bootstrap.min.css set `[hidden] { display: none !important; }` so we also need the `!important` here to be able to override the default hidden behavior on the sphinx rendered scikit-learn.org. See: https://github.com/scikit-learn/scikit-learn/issues/21755 */display: inline-block !important;position: relative;}#sk-container-id-5 div.sk-text-repr-fallback {display: none;}</style><div id=\"sk-container-id-5\" class=\"sk-top-container\"><div class=\"sk-text-repr-fallback\"><pre>DecisionTreeRegressor()</pre><b>In a Jupyter environment, please rerun this cell to show the HTML representation or trust the notebook. <br />On GitHub, the HTML representation is unable to render, please try loading this page with nbviewer.org.</b></div><div class=\"sk-container\" hidden><div class=\"sk-item\"><div class=\"sk-estimator sk-toggleable\"><input class=\"sk-toggleable__control sk-hidden--visually\" id=\"sk-estimator-id-5\" type=\"checkbox\" checked><label for=\"sk-estimator-id-5\" class=\"sk-toggleable__label sk-toggleable__label-arrow\">DecisionTreeRegressor</label><div class=\"sk-toggleable__content\"><pre>DecisionTreeRegressor()</pre></div></div></div></div></div>"
      ],
      "text/plain": [
       "DecisionTreeRegressor()"
      ]
     },
     "execution_count": 421,
     "metadata": {},
     "output_type": "execute_result"
    }
   ],
   "source": [
    "dt = DecisionTreeRegressor()\n",
    "dt.fit(X_train, y_train)"
   ]
  },
  {
   "cell_type": "code",
   "execution_count": 422,
   "id": "23a70003",
   "metadata": {},
   "outputs": [],
   "source": [
    "val_dicts = df_val.fillna(0).to_dict(orient='records')\n",
    "X_val = dv.transform(val_dicts)"
   ]
  },
  {
   "cell_type": "code",
   "execution_count": 423,
   "id": "63ec45fc",
   "metadata": {},
   "outputs": [
    {
     "name": "stdout",
     "output_type": "stream",
     "text": [
      "Mean Squared Error on Validation Data: 5652978.215\n"
     ]
    }
   ],
   "source": [
    "y_pred = dt.predict(X_val)\n",
    "\n",
    "# Calculate the Mean Squared Error on the validation data\n",
    "mse = mean_squared_error(y_val, y_pred)\n",
    "\n",
    "print(f\"Mean Squared Error on Validation Data: {mse:.3f}\")"
   ]
  },
  {
   "cell_type": "markdown",
   "metadata": {},
   "source": [
    "### Decision trees parameter tuning ###"
   ]
  },
  {
   "cell_type": "code",
   "execution_count": 424,
   "metadata": {},
   "outputs": [
    {
     "name": "stdout",
     "output_type": "stream",
     "text": [
      "   1 -> 8627985.387\n",
      "   2 -> 6202743.405\n",
      "   3 -> 4452413.822\n",
      "   4 -> 5400013.271\n",
      "   5 -> 4984495.277\n",
      "   6 -> 4545334.142\n",
      "  10 -> 4880940.361\n",
      "  15 -> 5450863.101\n",
      "  20 -> 5717854.447\n",
      "None -> 5649275.269\n"
     ]
    }
   ],
   "source": [
    "depths = [1, 2, 3, 4, 5, 6, 10, 15, 20, None]\n",
    "\n",
    "for depth in depths: \n",
    "    dt = DecisionTreeRegressor(max_depth=depth)\n",
    "    dt.fit(X_train, y_train)\n",
    "    \n",
    "    y_pred = dt.predict(X_val)\n",
    "    mse = mean_squared_error(y_val, y_pred)\n",
    "    \n",
    "    print('%4s -> %.3f' % (depth, mse))"
   ]
  },
  {
   "cell_type": "markdown",
   "metadata": {},
   "source": [
    "best depth = 3"
   ]
  },
  {
   "cell_type": "code",
   "execution_count": 425,
   "metadata": {},
   "outputs": [],
   "source": [
    "scores = []\n",
    "\n",
    "for depth in [3, 4, 5, 6, 7, 8]:\n",
    "    for s in [1, 5, 10, 15, 20, 500, 100, 200]:\n",
    "        dt = DecisionTreeRegressor(max_depth=depth, min_samples_leaf=s)\n",
    "        dt.fit(X_train, y_train)\n",
    "\n",
    "        y_pred = dt.predict(X_val)\n",
    "        mse = mean_squared_error(y_val, y_pred)\n",
    "        \n",
    "        scores.append((depth, s, mse))"
   ]
  },
  {
   "cell_type": "code",
   "execution_count": 426,
   "metadata": {},
   "outputs": [],
   "source": [
    "columns = ['max_depth', 'min_samples_leaf', 'mse']\n",
    "df_scores = pd.DataFrame(scores, columns=columns)"
   ]
  },
  {
   "cell_type": "code",
   "execution_count": 427,
   "metadata": {},
   "outputs": [
    {
     "data": {
      "text/html": [
       "<div>\n",
       "<style scoped>\n",
       "    .dataframe tbody tr th:only-of-type {\n",
       "        vertical-align: middle;\n",
       "    }\n",
       "\n",
       "    .dataframe tbody tr th {\n",
       "        vertical-align: top;\n",
       "    }\n",
       "\n",
       "    .dataframe thead tr th {\n",
       "        text-align: left;\n",
       "    }\n",
       "\n",
       "    .dataframe thead tr:last-of-type th {\n",
       "        text-align: right;\n",
       "    }\n",
       "</style>\n",
       "<table border=\"1\" class=\"dataframe\">\n",
       "  <thead>\n",
       "    <tr>\n",
       "      <th></th>\n",
       "      <th colspan=\"6\" halign=\"left\">mse</th>\n",
       "    </tr>\n",
       "    <tr>\n",
       "      <th>max_depth</th>\n",
       "      <th>3</th>\n",
       "      <th>4</th>\n",
       "      <th>5</th>\n",
       "      <th>6</th>\n",
       "      <th>7</th>\n",
       "      <th>8</th>\n",
       "    </tr>\n",
       "    <tr>\n",
       "      <th>min_samples_leaf</th>\n",
       "      <th></th>\n",
       "      <th></th>\n",
       "      <th></th>\n",
       "      <th></th>\n",
       "      <th></th>\n",
       "      <th></th>\n",
       "    </tr>\n",
       "  </thead>\n",
       "  <tbody>\n",
       "    <tr>\n",
       "      <th>1</th>\n",
       "      <td>4452413.822</td>\n",
       "      <td>5400013.271</td>\n",
       "      <td>4984495.277</td>\n",
       "      <td>4540083.557</td>\n",
       "      <td>4787148.133</td>\n",
       "      <td>4624927.511</td>\n",
       "    </tr>\n",
       "    <tr>\n",
       "      <th>5</th>\n",
       "      <td>4452413.822</td>\n",
       "      <td>3719725.103</td>\n",
       "      <td>3287241.935</td>\n",
       "      <td>2993134.128</td>\n",
       "      <td>3061141.485</td>\n",
       "      <td>2898774.747</td>\n",
       "    </tr>\n",
       "    <tr>\n",
       "      <th>10</th>\n",
       "      <td>4452413.822</td>\n",
       "      <td>3767569.944</td>\n",
       "      <td>3259517.829</td>\n",
       "      <td>3011084.750</td>\n",
       "      <td>2867828.468</td>\n",
       "      <td>2902992.047</td>\n",
       "    </tr>\n",
       "    <tr>\n",
       "      <th>15</th>\n",
       "      <td>4452413.822</td>\n",
       "      <td>3765750.710</td>\n",
       "      <td>3253510.091</td>\n",
       "      <td>3006663.176</td>\n",
       "      <td>2915328.487</td>\n",
       "      <td>2860440.023</td>\n",
       "    </tr>\n",
       "    <tr>\n",
       "      <th>20</th>\n",
       "      <td>4452413.822</td>\n",
       "      <td>3719420.451</td>\n",
       "      <td>3281399.880</td>\n",
       "      <td>3054471.104</td>\n",
       "      <td>2950740.400</td>\n",
       "      <td>2887825.779</td>\n",
       "    </tr>\n",
       "    <tr>\n",
       "      <th>100</th>\n",
       "      <td>5586133.855</td>\n",
       "      <td>5393303.008</td>\n",
       "      <td>5357591.164</td>\n",
       "      <td>5357401.753</td>\n",
       "      <td>5355420.700</td>\n",
       "      <td>5355420.700</td>\n",
       "    </tr>\n",
       "    <tr>\n",
       "      <th>200</th>\n",
       "      <td>5828765.440</td>\n",
       "      <td>5745501.529</td>\n",
       "      <td>5739993.247</td>\n",
       "      <td>5739993.247</td>\n",
       "      <td>5739993.247</td>\n",
       "      <td>5753701.871</td>\n",
       "    </tr>\n",
       "    <tr>\n",
       "      <th>500</th>\n",
       "      <td>7317263.630</td>\n",
       "      <td>7317263.630</td>\n",
       "      <td>7317263.630</td>\n",
       "      <td>7317263.630</td>\n",
       "      <td>7317263.630</td>\n",
       "      <td>7317263.630</td>\n",
       "    </tr>\n",
       "  </tbody>\n",
       "</table>\n",
       "</div>"
      ],
      "text/plain": [
       "                          mse                                         \\\n",
       "max_depth                   3            4            5            6   \n",
       "min_samples_leaf                                                       \n",
       "1                 4452413.822  5400013.271  4984495.277  4540083.557   \n",
       "5                 4452413.822  3719725.103  3287241.935  2993134.128   \n",
       "10                4452413.822  3767569.944  3259517.829  3011084.750   \n",
       "15                4452413.822  3765750.710  3253510.091  3006663.176   \n",
       "20                4452413.822  3719420.451  3281399.880  3054471.104   \n",
       "100               5586133.855  5393303.008  5357591.164  5357401.753   \n",
       "200               5828765.440  5745501.529  5739993.247  5739993.247   \n",
       "500               7317263.630  7317263.630  7317263.630  7317263.630   \n",
       "\n",
       "                                            \n",
       "max_depth                   7            8  \n",
       "min_samples_leaf                            \n",
       "1                 4787148.133  4624927.511  \n",
       "5                 3061141.485  2898774.747  \n",
       "10                2867828.468  2902992.047  \n",
       "15                2915328.487  2860440.023  \n",
       "20                2950740.400  2887825.779  \n",
       "100               5355420.700  5355420.700  \n",
       "200               5739993.247  5753701.871  \n",
       "500               7317263.630  7317263.630  "
      ]
     },
     "execution_count": 427,
     "metadata": {},
     "output_type": "execute_result"
    }
   ],
   "source": [
    "df_scores_pivot = df_scores.pivot(index='min_samples_leaf', columns=['max_depth'], values=['mse'])\n",
    "df_scores_pivot.round(3)"
   ]
  },
  {
   "cell_type": "markdown",
   "metadata": {},
   "source": [
    "best max_depth = 6 and min_sammples_leaf = 10"
   ]
  },
  {
   "cell_type": "code",
   "execution_count": 428,
   "metadata": {},
   "outputs": [
    {
     "data": {
      "text/plain": [
       "<Axes: xlabel='None-max_depth', ylabel='min_samples_leaf'>"
      ]
     },
     "execution_count": 428,
     "metadata": {},
     "output_type": "execute_result"
    },
    {
     "data": {
      "image/png": "[encoded data removed]",
      "text/plain": [
       "<Figure size 640x480 with 2 Axes>"
      ]
     },
     "metadata": {},
     "output_type": "display_data"
    }
   ],
   "source": [
    "sns.heatmap(df_scores_pivot, annot=True, fmt=\".3f\")"
   ]
  },
  {
   "cell_type": "code",
   "execution_count": 429,
   "metadata": {},
   "outputs": [
    {
     "name": "stdout",
     "output_type": "stream",
     "text": [
      "Mean Squared Error on for the Decision Tree model: 3011084.750\n"
     ]
    }
   ],
   "source": [
    "dt = DecisionTreeRegressor(max_depth=6, min_samples_leaf=10)\n",
    "dt.fit(X_train, y_train)\n",
    "\n",
    "y_pred = dt.predict(X_val)\n",
    "\n",
    "# Calculate the Mean Squared Error on the validation data\n",
    "tree_mse = mean_squared_error(y_val, y_pred)\n",
    "\n",
    "print(f\"Mean Squared Error on for the Decision Tree model: {tree_mse:.3f}\")\n"
   ]
  },
  {
   "cell_type": "markdown",
   "metadata": {},
   "source": [
    "### 3. XGBoost Model ###"
   ]
  },
  {
   "cell_type": "code",
   "execution_count": 431,
   "metadata": {},
   "outputs": [],
   "source": [
    "features_array = dv.get_feature_names_out()\n",
    "features = [str(item) for item in features_array]\n",
    "dtrain = xgb.DMatrix(X_train, label=y_train, feature_names=features)\n",
    "dval = xgb.DMatrix(X_val, label=y_val, feature_names=features)"
   ]
  },
  {
   "cell_type": "code",
   "execution_count": 432,
   "metadata": {},
   "outputs": [],
   "source": [
    "xgb_params = {\n",
    "    'eta': 0.3, \n",
    "    'max_depth': 6,\n",
    "    'min_child_weight': 1,\n",
    "    \n",
    "    'objective': 'reg:squarederror',\n",
    "    'nthread': 8,\n",
    "    \n",
    "    'seed': 1,\n",
    "    'verbosity': 1,\n",
    "}\n",
    "\n",
    "model = xgb.train(xgb_params, dtrain, num_boost_round=10)"
   ]
  },
  {
   "cell_type": "code",
   "execution_count": 456,
   "metadata": {},
   "outputs": [
    {
     "name": "stdout",
     "output_type": "stream",
     "text": [
      "Mean Squared Error on Validation Data: 2187240.626\n"
     ]
    }
   ],
   "source": [
    "y_pred = model.predict(dval)\n",
    "\n",
    "\n",
    "# Calculate the Mean Squared Error on the validation data\n",
    "mse = mean_squared_error(y_val, y_pred)\n",
    "\n",
    "print(f\"Mean Squared Error on Validation Data: {mse:.3f}\")"
   ]
  },
  {
   "cell_type": "markdown",
   "metadata": {},
   "source": [
    "### XGBoost Parameter Tuning ###\n",
    "\n",
    "Tuning the following parameters:\n",
    "- eta\n",
    "- max_depth\n",
    "- min_child_weight"
   ]
  },
  {
   "cell_type": "code",
   "execution_count": 434,
   "metadata": {},
   "outputs": [],
   "source": [
    "def parse_xgb_output(output):\n",
    "    results = []\n",
    "\n",
    "    for line in output.stdout.strip().split('\\n'):\n",
    "        it_line, train_line, val_line = line.split('\\t')\n",
    "\n",
    "        it = int(it_line.strip('[]'))\n",
    "        train = float(train_line.split(':')[1])\n",
    "        val = float(val_line.split(':')[1])\n",
    "\n",
    "        results.append((it, train, val))\n",
    "    \n",
    "    columns = ['num_iter', 'train_mse', 'val_mse']\n",
    "    df_results = pd.DataFrame(results, columns=columns)\n",
    "    return df_results"
   ]
  },
  {
   "cell_type": "code",
   "execution_count": 435,
   "metadata": {},
   "outputs": [],
   "source": [
    "watchlist = [(dtrain, 'train'), (dval, 'val')]"
   ]
  },
  {
   "cell_type": "code",
   "execution_count": 436,
   "metadata": {},
   "outputs": [],
   "source": [
    "%%capture output\n",
    "\n",
    "xgb_params = {\n",
    "    'eta': 0.01, \n",
    "    'max_depth': 6,\n",
    "    'min_child_weight': 1,\n",
    "    \n",
    "    'objective': 'reg:squarederror',\n",
    "    'loss': 'squared_error',\n",
    "\n",
    "    'nthread': 8,\n",
    "    'seed': 1,\n",
    "    'verbosity': 1,\n",
    "}\n",
    "\n",
    "model = xgb.train(xgb_params, dtrain, num_boost_round=200,\n",
    "                  verbose_eval=5,\n",
    "                  evals=watchlist)"
   ]
  },
  {
   "cell_type": "code",
   "execution_count": 437,
   "metadata": {},
   "outputs": [],
   "source": [
    "scores = {}"
   ]
  },
  {
   "cell_type": "code",
   "execution_count": 438,
   "metadata": {},
   "outputs": [
    {
     "data": {
      "text/plain": [
       "'eta=0.01'"
      ]
     },
     "execution_count": 438,
     "metadata": {},
     "output_type": "execute_result"
    }
   ],
   "source": [
    "key = 'eta=%s' % (xgb_params['eta'])\n",
    "scores[key] = parse_xgb_output(output)\n",
    "key"
   ]
  },
  {
   "cell_type": "code",
   "execution_count": 439,
   "metadata": {},
   "outputs": [],
   "source": [
    "scores = {}"
   ]
  },
  {
   "cell_type": "code",
   "execution_count": 440,
   "metadata": {},
   "outputs": [],
   "source": [
    "%%capture output\n",
    "\n",
    "xgb_params = {\n",
    "    'eta': 0.1, \n",
    "    'max_depth': 10,\n",
    "    'min_child_weight': 1,\n",
    "    \n",
    "    'objective': 'reg:squarederror',\n",
    "    'loss': 'squared_error',\n",
    "\n",
    "\n",
    "    'nthread': 8,\n",
    "    'seed': 1,\n",
    "    'verbosity': 1,\n",
    "}\n",
    "\n",
    "model = xgb.train(xgb_params, dtrain, num_boost_round=200,\n",
    "                  verbose_eval=5,\n",
    "                  evals=watchlist)"
   ]
  },
  {
   "cell_type": "code",
   "execution_count": 441,
   "metadata": {},
   "outputs": [
    {
     "data": {
      "text/plain": [
       "'max_depth=10'"
      ]
     },
     "execution_count": 441,
     "metadata": {},
     "output_type": "execute_result"
    }
   ],
   "source": [
    "key = 'max_depth=%s' % (xgb_params['max_depth'])\n",
    "scores[key] = parse_xgb_output(output)\n",
    "key"
   ]
  },
  {
   "cell_type": "code",
   "execution_count": 442,
   "metadata": {},
   "outputs": [
    {
     "data": {
      "text/plain": [
       "<matplotlib.legend.Legend at 0x7fe62684b210>"
      ]
     },
     "execution_count": 442,
     "metadata": {},
     "output_type": "execute_result"
    },
    {
     "data": {
      "image/png": "[encoded data removed]",
      "text/plain": [
       "<Figure size 640x480 with 1 Axes>"
      ]
     },
     "metadata": {},
     "output_type": "display_data"
    }
   ],
   "source": [
    "for max_depth, df_score in scores.items():\n",
    "    plt.plot(df_score.num_iter, df_score.val_mse, label=max_depth)\n",
    "\n",
    "plt.legend()"
   ]
  },
  {
   "cell_type": "code",
   "execution_count": 443,
   "metadata": {},
   "outputs": [],
   "source": [
    "scores = {}"
   ]
  },
  {
   "cell_type": "code",
   "execution_count": 444,
   "metadata": {},
   "outputs": [],
   "source": [
    "%%capture output\n",
    "\n",
    "xgb_params = {\n",
    "    'eta': 0.1, \n",
    "    'max_depth': 3,\n",
    "    'min_child_weight': 30,\n",
    "    \n",
    "    'objective': 'reg:squarederror',\n",
    "    'loss': 'squared_error',\n",
    "\n",
    "    'nthread': 8,\n",
    "    'seed': 1,\n",
    "    'verbosity': 1,\n",
    "}\n",
    "\n",
    "model = xgb.train(xgb_params, dtrain, num_boost_round=200,\n",
    "                  verbose_eval=5,\n",
    "                  evals=watchlist)"
   ]
  },
  {
   "cell_type": "code",
   "execution_count": 445,
   "metadata": {},
   "outputs": [
    {
     "data": {
      "text/plain": [
       "'min_child_weight=30'"
      ]
     },
     "execution_count": 445,
     "metadata": {},
     "output_type": "execute_result"
    }
   ],
   "source": [
    "key = 'min_child_weight=%s' % (xgb_params['min_child_weight'])\n",
    "scores[key] = parse_xgb_output(output)\n",
    "key"
   ]
  },
  {
   "cell_type": "code",
   "execution_count": 446,
   "metadata": {},
   "outputs": [
    {
     "data": {
      "text/plain": [
       "<matplotlib.legend.Legend at 0x7fe6268bdd50>"
      ]
     },
     "execution_count": 446,
     "metadata": {},
     "output_type": "execute_result"
    },
    {
     "data": {
      "image/png": "[encoded data removed]",
      "text/plain": [
       "<Figure size 640x480 with 1 Axes>"
      ]
     },
     "metadata": {},
     "output_type": "display_data"
    }
   ],
   "source": [
    "for min_child_weight, df_score in scores.items():\n",
    "    plt.plot(df_score.num_iter, df_score.val_mse, label=min_child_weight)\n",
    "\n",
    "plt.legend()"
   ]
  },
  {
   "cell_type": "code",
   "execution_count": 447,
   "metadata": {},
   "outputs": [],
   "source": [
    "xgb_params = {\n",
    "    'eta': 0.1, \n",
    "    'max_depth': 10,\n",
    "    'min_child_weight': 30,\n",
    "\n",
    "    'objective': 'reg:squarederror',\n",
    "\n",
    "    'nthread': 8,\n",
    "    'seed': 1,\n",
    "    'verbosity': 1,\n",
    "}\n",
    "\n",
    "model = xgb.train(xgb_params, dtrain, num_boost_round=175)"
   ]
  },
  {
   "cell_type": "code",
   "execution_count": 448,
   "metadata": {},
   "outputs": [
    {
     "name": "stdout",
     "output_type": "stream",
     "text": [
      "Mean Squared Error on for the XGBoost model: 2187240.626\n"
     ]
    }
   ],
   "source": [
    "y_pred = model.predict(dval)\n",
    "\n",
    "# Calculate the Mean Squared Error on the validation data\n",
    "xgb_mse = mean_squared_error(y_val, y_pred)\n",
    "\n",
    "print(f\"Mean Squared Error on for the XGBoost model: {xgb_mse:.3f}\")"
   ]
  },
  {
   "cell_type": "markdown",
   "metadata": {},
   "source": [
    "## Selecting the final model ##\n",
    "- Choosing between linear regression, decision tree and XGBoost\n",
    "- Training the final model\n",
    "- Saving the model"
   ]
  },
  {
   "cell_type": "code",
   "execution_count": 449,
   "metadata": {},
   "outputs": [
    {
     "name": "stdout",
     "output_type": "stream",
     "text": [
      "Mean Squared Error on for the Linear Regression model: 3115864.267\n",
      "Mean Squared Error on for the XGBoost model: 2187240.626\n",
      "Mean Squared Error on for the Decision Tree model: 3011084.750\n"
     ]
    }
   ],
   "source": [
    "print(f\"Mean Squared Error on for the Linear Regression model: {linear_mse:.3f}\")\n",
    "print(f\"Mean Squared Error on for the Decision Tree model: {tree_mse:.3f}\")\n",
    "print(f\"Mean Squared Error on for the XGBoost model: {xgb_mse:.3f}\")\n"
   ]
  },
  {
   "cell_type": "code",
   "execution_count": 450,
   "metadata": {},
   "outputs": [
    {
     "name": "stdout",
     "output_type": "stream",
     "text": [
      "The winner is the XGBoost model\n"
     ]
    }
   ],
   "source": [
    "print('The winner is the XGBoost model')"
   ]
  },
  {
   "cell_type": "code",
   "execution_count": 451,
   "metadata": {},
   "outputs": [],
   "source": [
    "# no need to retrain as the last model we trained was the XGBoost model with the best parameters\n",
    "\n",
    "# save linear regression model to pickle file\n",
    "output_file = f'model_xgb.bin'\n",
    "with open(output_file, 'wb') as f_out: \n",
    "    pickle.dump((dv, model), f_out)"
   ]
  },
  {
   "cell_type": "code",
   "execution_count": 454,
   "metadata": {},
   "outputs": [
    {
     "data": {
      "text/plain": [
       "3645"
      ]
     },
     "execution_count": 454,
     "metadata": {},
     "output_type": "execute_result"
    }
   ],
   "source": []
  }
 ],
 "metadata": {
  "kernelspec": {
   "display_name": "Python 3 (ipykernel)",
   "language": "python",
   "name": "python3"
  },
  "language_info": {
   "codemirror_mode": {
    "name": "ipython",
    "version": 3
   },
   "file_extension": ".py",
   "mimetype": "text/x-python",
   "name": "python",
   "nbconvert_exporter": "python",
   "pygments_lexer": "ipython3",
   "version": "3.11.5"
  }
 },
 "nbformat": 4,
 "nbformat_minor": 5
}
